{
 "cells": [
  {
   "cell_type": "markdown",
   "metadata": {},
   "source": [
    "## Simulation of  FHN model with (generalized) phase model"
   ]
  },
  {
   "cell_type": "markdown",
   "metadata": {},
   "source": [
    "### Setup"
   ]
  },
  {
   "cell_type": "code",
   "execution_count": 17,
   "metadata": {},
   "outputs": [],
   "source": [
    "using GeneralizedPhaseModel\n",
    "using DifferentialEquations, PyPlot"
   ]
  },
  {
   "cell_type": "markdown",
   "metadata": {},
   "source": [
    "Define the vector field of the system."
   ]
  },
  {
   "cell_type": "code",
   "execution_count": 18,
   "metadata": {},
   "outputs": [
    {
     "data": {
      "text/plain": [
       "F (generic function with 1 method)"
      ]
     },
     "execution_count": 18,
     "metadata": {},
     "output_type": "execute_result"
    }
   ],
   "source": [
    "# Parameters and variables\n",
    "c = 0.7; d = 0.8; eps = 0.08; # FHN parameters\n",
    "\n",
    "Nθ = 10000  # The number of splitting phase for one period; (Int)\n",
    "D = 2        # Dimension of states; (Int)\n",
    "\n",
    "# FHN vector field\n",
    "dvdt(X, I) = X[1] - X[1]^3/3.0 - X[2] + I\n",
    "dudt(X) = eps * (X[1] + c - d * X[2])\n",
    "\n",
    "F(X, I) = [dvdt(X, I), dudt(X)]"
   ]
  },
  {
   "cell_type": "code",
   "execution_count": 19,
   "metadata": {},
   "outputs": [
    {
     "data": {
      "text/plain": [
       "200001"
      ]
     },
     "execution_count": 19,
     "metadata": {},
     "output_type": "execute_result"
    }
   ],
   "source": [
    "Imin = 0.4; Imax = 1.0; dI = 0.1\n",
    "dt = 1e-3\n",
    "D = 2\n",
    "Nθ = 1000\n",
    "Irange = Imin:dI:Imax\n",
    "NI = size(Irange)[1]\n",
    "alg = Tsit5()\n",
    "origin_val_idx = 1\n",
    "origin_thr = 0.0\n",
    "\n",
    "# input\n",
    "It(t, α=0.6) = α * (sin(0.02t)^2) + 0.4\n",
    "\n",
    "trange = 0:dt:200\n",
    "Nt = size(trange)[1]"
   ]
  },
  {
   "cell_type": "code",
   "execution_count": 20,
   "metadata": {},
   "outputs": [
    {
     "data": {
      "text/plain": [
       "0.6628986103885433"
      ]
     },
     "execution_count": 20,
     "metadata": {},
     "output_type": "execute_result"
    }
   ],
   "source": [
    "Imean = sum(It.(trange)) / Nt"
   ]
  },
  {
   "cell_type": "markdown",
   "metadata": {},
   "source": [
    "The time variation of the input is shown below."
   ]
  },
  {
   "cell_type": "code",
   "execution_count": 21,
   "metadata": {},
   "outputs": [
    {
     "data": {
      "image/png": "[encoded data removed]",
      "text/plain": [
       "Figure(PyObject <Figure size 400x200 with 1 Axes>)"
      ]
     },
     "metadata": {},
     "output_type": "display_data"
    }
   ],
   "source": [
    "figure(figsize=(4, 2))\n",
    "plot(trange, It.(trange))\n",
    "xlim(trange[1], trange[end]); xlabel(L\"$t$\"); ylabel(L\"$I(t)$\"); grid();\n",
    "tight_layout()"
   ]
  },
  {
   "cell_type": "markdown",
   "metadata": {},
   "source": [
    "Obtain the angular frequency $\\omega(I)$, phase sensitivity function $\\zeta(\\theta, I), \\xi(\\theta, I)$, and the coordinates of stable periodic solution $X_s(I)$ for various inputs."
   ]
  },
  {
   "cell_type": "code",
   "execution_count": 6,
   "metadata": {},
   "outputs": [
    {
     "ename": "LoadError",
     "evalue": "UndefVarError: alg not defined",
     "output_type": "error",
     "traceback": [
      "UndefVarError: alg not defined",
      "",
      "Stacktrace:",
      " [1] top-level scope",
      "   @ In[6]:1",
      " [2] eval",
      "   @ .\\boot.jl:360 [inlined]",
      " [3] include_string(mapexpr::typeof(REPL.softscope), mod::Module, code::String, filename::String)",
      "   @ Base .\\loading.jl:1116"
     ]
    }
   ],
   "source": [
    "ωI, ζθI, ξθI, XsI = generalized_phase_sensitivity_func(F, Imin, Imax, dI, D, Nθ, nothing, dt, alg, origin_val_idx, origin_thr);"
   ]
  },
  {
   "cell_type": "markdown",
   "metadata": {},
   "source": [
    "Plot the coordinates of the stable periodic solution to check if the simulation was stable."
   ]
  },
  {
   "cell_type": "code",
   "execution_count": 7,
   "metadata": {},
   "outputs": [
    {
     "ename": "LoadError",
     "evalue": "UndefVarError: get_cmap not defined",
     "output_type": "error",
     "traceback": [
      "UndefVarError: get_cmap not defined",
      "",
      "Stacktrace:",
      " [1] top-level scope",
      "   @ In[7]:1",
      " [2] eval",
      "   @ .\\boot.jl:360 [inlined]",
      " [3] include_string(mapexpr::typeof(REPL.softscope), mod::Module, code::String, filename::String)",
      "   @ Base .\\loading.jl:1116"
     ]
    }
   ],
   "source": [
    "cmap = get_cmap(\"viridis\")\n",
    "\n",
    "figure(figsize=(7, 3))\n",
    "θ = range(0, 2π, length=Nθ) \n",
    "subplot(1,2,1)\n",
    "for i = 1:NI\n",
    "    I = Irange[i]\n",
    "    plot(θ, XsI[1](θ, I), color=cmap(i/NI))\n",
    "end\n",
    "xlim(0, 2π); xticks([0, 0.5π, π, 1.5π, 2π], [\"0\", \"π/2\", \"π\", \"3/2π\", \"2π\"]);\n",
    "grid(); xlabel(L\"$\\theta$\"); ylabel(L\"x(\\theta, I)\"); \n",
    "\n",
    "subplot(1,2,2)\n",
    "for i = 1:size(Irange)[1]\n",
    "    I = Irange[i]\n",
    "    plot(θ, XsI[2](θ, I), color=cmap(i/NI))\n",
    "end\n",
    "xlim(0, 2π); xticks([0, 0.5π, π, 1.5π, 2π], [\"0\", \"π/2\", \"π\", \"3/2π\", \"2π\"]);\n",
    "grid(); xlabel(L\"$\\theta$\"); ylabel(L\"y(\\theta, I)\"); \n",
    "\n",
    "sm = plt.cm.ScalarMappable(cmap=cmap, norm=plt.Normalize(vmin=Imin, vmax=Imax))\n",
    "plt.colorbar(sm, label=L\"strength of $I$\")\n",
    "\n",
    "tight_layout()"
   ]
  },
  {
   "cell_type": "markdown",
   "metadata": {},
   "source": [
    "### Original system\n",
    "Run a simulation of the original system."
   ]
  },
  {
   "cell_type": "code",
   "execution_count": 8,
   "metadata": {},
   "outputs": [
    {
     "data": {
      "text/plain": [
       "os_updateX (generic function with 1 method)"
      ]
     },
     "execution_count": 8,
     "metadata": {},
     "output_type": "execute_result"
    }
   ],
   "source": [
    "function os_updateX(X, I, t)\n",
    "    return F(X, I(t))\n",
    "end"
   ]
  },
  {
   "cell_type": "code",
   "execution_count": 9,
   "metadata": {},
   "outputs": [
    {
     "ename": "LoadError",
     "evalue": "UndefVarError: It not defined",
     "output_type": "error",
     "traceback": [
      "UndefVarError: It not defined",
      "",
      "Stacktrace:",
      " [1] top-level scope",
      "   @ In[9]:3",
      " [2] eval",
      "   @ .\\boot.jl:360 [inlined]",
      " [3] include_string(mapexpr::typeof(REPL.softscope), mod::Module, code::String, filename::String)",
      "   @ Base .\\loading.jl:1116"
     ]
    }
   ],
   "source": [
    "initX = [1.0, 0.0]\n",
    "\n",
    "integrator_os = get_ode_integrator(os_updateX, initX, dt, It, alg)\n",
    "Xos = zeros(Nt, D)\n",
    "\n",
    "@time for tt in 1:Nt\n",
    "    Xos[tt, :] = integrator_os.u # memory\n",
    "    step!(integrator_os, dt, true)\n",
    "end"
   ]
  },
  {
   "cell_type": "markdown",
   "metadata": {},
   "source": [
    "### Conventional phase model"
   ]
  },
  {
   "cell_type": "code",
   "execution_count": 10,
   "metadata": {},
   "outputs": [
    {
     "data": {
      "text/plain": [
       "conventinal_updateθ! (generic function with 1 method)"
      ]
     },
     "execution_count": 10,
     "metadata": {},
     "output_type": "execute_result"
    }
   ],
   "source": [
    "function conventinal_updateθ!(θ, I, ωI, ζθI, dt)\n",
    "    θ[1] += (ωI(Imean) + ζθI(θ[1], Imean) * I) * dt\n",
    "end"
   ]
  },
  {
   "cell_type": "code",
   "execution_count": 11,
   "metadata": {},
   "outputs": [
    {
     "ename": "LoadError",
     "evalue": "UndefVarError: Nt not defined",
     "output_type": "error",
     "traceback": [
      "UndefVarError: Nt not defined",
      "",
      "Stacktrace:",
      " [1] top-level scope",
      "   @ In[11]:1",
      " [2] eval",
      "   @ .\\boot.jl:360 [inlined]",
      " [3] include_string(mapexpr::typeof(REPL.softscope), mod::Module, code::String, filename::String)",
      "   @ Base .\\loading.jl:1116"
     ]
    }
   ],
   "source": [
    "Xcpm = zeros(Nt, D)\n",
    "Θcpm = zeros(Nt)\n",
    "θcpm = [0.0, ]\n",
    "@time for tt in 1:Nt\n",
    "    I = It(trange[tt])\n",
    "    θcpm = mod.(θcpm, 2π)\n",
    "    Xcpm[tt, :] = [XsI[i](θcpm[1], I) for i in 1:D] # memory\n",
    "    Θcpm[tt] = θcpm[1]\n",
    "    conventinal_updateθ!(θcpm, I, ωI, ζθI, dt)\n",
    "end"
   ]
  },
  {
   "cell_type": "markdown",
   "metadata": {},
   "source": [
    "### Generalized phase model"
   ]
  },
  {
   "cell_type": "code",
   "execution_count": 12,
   "metadata": {},
   "outputs": [
    {
     "data": {
      "text/plain": [
       "generalized_updateθ! (generic function with 1 method)"
      ]
     },
     "execution_count": 12,
     "metadata": {},
     "output_type": "execute_result"
    }
   ],
   "source": [
    "function generalized_updateθ!(θ, I, ωI, ξθI, dIdt, dt)\n",
    "    θ[1] += (ωI(I) + ξθI(θ[1], I) * dIdt) * dt\n",
    "end"
   ]
  },
  {
   "cell_type": "code",
   "execution_count": 13,
   "metadata": {},
   "outputs": [
    {
     "ename": "LoadError",
     "evalue": "UndefVarError: Nt not defined",
     "output_type": "error",
     "traceback": [
      "UndefVarError: Nt not defined",
      "",
      "Stacktrace:",
      " [1] top-level scope",
      "   @ In[13]:1",
      " [2] eval",
      "   @ .\\boot.jl:360 [inlined]",
      " [3] include_string(mapexpr::typeof(REPL.softscope), mod::Module, code::String, filename::String)",
      "   @ Base .\\loading.jl:1116"
     ]
    }
   ],
   "source": [
    "Xgpm = zeros(Nt, D)\n",
    "Θgpm = zeros(Nt)\n",
    "θgpm = [0.0, ]\n",
    "@time for tt in 1:Nt\n",
    "    I = It(trange[tt])\n",
    "    if tt > 1\n",
    "        dIdt = (I - It(trange[tt-1])) / dt\n",
    "    else\n",
    "        dIdt = 0\n",
    "    end\n",
    "    θgpm = mod.(θgpm, 2π)\n",
    "    Xgpm[tt, :] = [XsI[i](θgpm[1], I) for i in 1:D] # memory\n",
    "    Θgpm[tt] = θgpm[1]\n",
    "    generalized_updateθ!(θgpm, I, ωI, ξθI, dIdt, dt)\n",
    "end"
   ]
  },
  {
   "cell_type": "markdown",
   "metadata": {},
   "source": [
    "### Results"
   ]
  },
  {
   "cell_type": "markdown",
   "metadata": {},
   "source": [
    "Plot the phase change."
   ]
  },
  {
   "cell_type": "code",
   "execution_count": 14,
   "metadata": {},
   "outputs": [
    {
     "ename": "LoadError",
     "evalue": "UndefVarError: figure not defined",
     "output_type": "error",
     "traceback": [
      "UndefVarError: figure not defined",
      "",
      "Stacktrace:",
      " [1] top-level scope",
      "   @ In[14]:1",
      " [2] eval",
      "   @ .\\boot.jl:360 [inlined]",
      " [3] include_string(mapexpr::typeof(REPL.softscope), mod::Module, code::String, filename::String)",
      "   @ Base .\\loading.jl:1116"
     ]
    }
   ],
   "source": [
    "figure(figsize=(8, 2))\n",
    "plot(trange, Θgpm, color=\"tab:red\", label=\"generalized phase model\")\n",
    "plot(trange, Θcpm, color=\"tab:gray\", label=\"conventional phase model\")\n",
    "xlim(trange[1], trange[end]); xlabel(L\"$t$\"); ylabel(L\"$θ(t)$\"); grid(); \n",
    "yticks([0, π, 2π], [\"0\", \"π\", \"2π\"]);\n",
    "legend(loc=\"upper left\", bbox_to_anchor=(1.05, 1))\n",
    "tight_layout()"
   ]
  },
  {
   "cell_type": "markdown",
   "metadata": {},
   "source": [
    "Plot the approximate predictions of conventional and generalized phase models for the dynamics of the original system. Below is the difference between the original system dynamics and the phase model predictions."
   ]
  },
  {
   "cell_type": "code",
   "execution_count": 15,
   "metadata": {},
   "outputs": [
    {
     "ename": "LoadError",
     "evalue": "UndefVarError: figure not defined",
     "output_type": "error",
     "traceback": [
      "UndefVarError: figure not defined",
      "",
      "Stacktrace:",
      " [1] top-level scope",
      "   @ In[15]:1",
      " [2] eval",
      "   @ .\\boot.jl:360 [inlined]",
      " [3] include_string(mapexpr::typeof(REPL.softscope), mod::Module, code::String, filename::String)",
      "   @ Base .\\loading.jl:1116"
     ]
    }
   ],
   "source": [
    "figure(figsize=(10, 6))\n",
    "subplot(2,2,1)\n",
    "plot(trange, Xos[:, 1], \"--\", label=\"original system\")\n",
    "plot(trange, Xgpm[:, 1], color=\"tab:red\", label=\"generalized phase model\")\n",
    "plot(trange, Xcpm[:, 1], color=\"tab:gray\", label=\"conventional phase model\")\n",
    "xlim(trange[1], trange[end]); xlabel(L\"$t$\"); ylabel(L\"$x(t)$\"); grid(); legend(loc=\"lower left\")\n",
    "\n",
    "subplot(2,2,2)\n",
    "plot(trange, Xos[:, 2], \"--\", label=\"original system\")\n",
    "plot(trange, Xgpm[:, 2], color=\"tab:red\", label=\"generalized phase model\")\n",
    "plot(trange, Xcpm[:, 2], color=\"tab:gray\", label=\"conventional phase model\")\n",
    "xlim(trange[1], trange[end]); xlabel(L\"$t$\"); ylabel(L\"$y(t)$\"); grid()\n",
    "\n",
    "subplot(2,2,3)\n",
    "plot(trange, Xgpm[:, 1]-Xos[:, 1], color=\"tab:red\", label=L\"generalized. $-$ original\")\n",
    "plot(trange, Xcpm[:, 1]-Xos[:, 1], color=\"tab:gray\", label=L\"conventional. $-$ original\")\n",
    "xlim(trange[1], trange[end]); xlabel(L\"$t$\"); ylabel(L\"$\\Delta x(t)$\"); grid(); legend(loc=\"upper left\")\n",
    "\n",
    "subplot(2,2,4)\n",
    "plot(trange, Xgpm[:, 2]-Xos[:, 2], color=\"tab:red\")\n",
    "plot(trange, Xcpm[:, 2]-Xos[:, 2], color=\"tab:gray\")\n",
    "xlim(trange[1], trange[end]); xlabel(L\"$t$\"); ylabel(L\"$\\Delta y(t)$\"); grid()\n",
    "\n",
    "tight_layout()"
   ]
  }
 ],
 "metadata": {
  "kernelspec": {
   "display_name": "Julia 1.6.2",
   "language": "julia",
   "name": "julia-1.6"
  },
  "language_info": {
   "file_extension": ".jl",
   "mimetype": "application/julia",
   "name": "julia",
   "version": "1.6.2"
  }
 },
 "nbformat": 4,
 "nbformat_minor": 4
}
