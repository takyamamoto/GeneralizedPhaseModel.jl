{
 "cells": [
  {
   "cell_type": "markdown",
   "metadata": {},
   "source": [
    "## Simulation of  modified Stuart-Landau (MSL) model with (generalized) phase model"
   ]
  },
  {
   "cell_type": "markdown",
   "metadata": {},
   "source": [
    "### Setup"
   ]
  },
  {
   "cell_type": "code",
   "execution_count": 1,
   "metadata": {},
   "outputs": [
    {
     "data": {
      "text/plain": [
       "PyObject <module 'mpl_toolkits.axes_grid1' from 'C:\\\\ProgramData\\\\Miniconda3\\\\lib\\\\site-packages\\\\mpl_toolkits\\\\axes_grid1\\\\__init__.py'>"
      ]
     },
     "execution_count": 1,
     "metadata": {},
     "output_type": "execute_result"
    }
   ],
   "source": [
    "using GeneralizedPhaseModel\n",
    "using DifferentialEquations, PyPlot\n",
    "using PyCall\n",
    "axes_grid1 = pyimport(\"mpl_toolkits.axes_grid1\")"
   ]
  },
  {
   "cell_type": "markdown",
   "metadata": {},
   "source": [
    "### Model definition"
   ]
  },
  {
   "cell_type": "code",
   "execution_count": 2,
   "metadata": {},
   "outputs": [],
   "source": [
    "dxdt(X, I, λ=5.0) = λ*(X[1]-I) - exp(I)*X[2]-λ*((X[1]-I)^2+X[2]^2)*(X[1]-I)\n",
    "dydt(X, I, λ=5.0) = exp(I)*(X[1]-I) + λ*X[2]-λ*((X[1]-I)^2+X[2]^2)*X[2]\n",
    "F(X, I) = [dxdt(X, I), dydt(X, I)]\n",
    "\n",
    "D, N = 2, 2 # number of dimensions, units\n",
    "Nθ = 1000\n",
    "G(X, K) = K * ((1 .- eye(N)) * X[:, 1])\n",
    "dt = 1e-3; T = 20; Nt = round(Int, T/dt)\n",
    "trange = range(0, T, length=Nt)\n",
    "alg = Tsit5();"
   ]
  },
  {
   "cell_type": "code",
   "execution_count": 3,
   "metadata": {},
   "outputs": [
    {
     "name": "stdout",
     "output_type": "stream",
     "text": [
      "  7.425818 seconds (29.75 M allocations: 2.172 GiB, 5.04% gc time, 61.46% compilation time)\n",
      "Ts=6.284 (sec) , ω=0.9998703544206853 (Hz)\n"
     ]
    }
   ],
   "source": [
    "@time Ts, ω, Xs = find_stable_periodic_solution(F, 0, D, Nθ, [1, 0], dt, alg, 2, 0.0, print_progress=false)\n",
    "println(\"Ts=\", Ts, \" (sec) , ω=\", ω, \" (Hz)\")"
   ]
  },
  {
   "cell_type": "code",
   "execution_count": 6,
   "metadata": {},
   "outputs": [
    {
     "name": "stderr",
     "output_type": "stream",
     "text": [
      "\u001b[32m[1/3] Computing Xs(θ, I) and Z(θ, I)...100%|████████████| Time: 0:00:09\u001b[39mm\n"
     ]
    },
    {
     "name": "stdout",
     "output_type": "stream",
     "text": [
      "[2/3] Computing ζ(θ, I)...\n",
      "[3/3] Computing ξ(θ, I)...\n"
     ]
    }
   ],
   "source": [
    "# F, Imin, Imax, dI, D, Nθ, nothing, dt, alg, origin_val_idx, origin_thr\n",
    "ωI, ζθI, ξθI, XsI = generalized_phase_sensitivity_func(F, -1.2, 1.2, 0.1, D, Nθ, nothing, dt, alg, 2, 0.0);"
   ]
  },
  {
   "cell_type": "code",
   "execution_count": 5,
   "metadata": {},
   "outputs": [
    {
     "data": {
      "text/plain": [
       "coupled_func! (generic function with 1 method)"
      ]
     },
     "execution_count": 5,
     "metadata": {},
     "output_type": "execute_result"
    }
   ],
   "source": [
    "function coupled_func!(dX, X, p, t)\n",
    "    g, κ = p\n",
    "    Iext = g(X) # input\n",
    "    for i in 1:size(dX)[1]\n",
    "        dX[i, :] = κ[i] * F(X[i, :], Iext[i])\n",
    "    end\n",
    "end"
   ]
  },
  {
   "cell_type": "markdown",
   "metadata": {},
   "source": [
    "### Run simulation"
   ]
  },
  {
   "cell_type": "code",
   "execution_count": 17,
   "metadata": {},
   "outputs": [
    {
     "data": {
      "text/plain": [
       "all_simulation (generic function with 4 methods)"
      ]
     },
     "execution_count": 17,
     "metadata": {},
     "output_type": "execute_result"
    }
   ],
   "source": [
    "function all_simulation(N, D, ωI, ζθI, ξθI, XsI, coupled_func!, G, K, κ, initθ, alg=Tsit5(), NΘ=50, input_mode=\"I\")\n",
    "    @assert (input_mode == \"I\" || input_mode == \"PQ\") \"input_mode must be `I` or `PQ`.\"\n",
    "    \n",
    "    g(X) = G(X, K)\n",
    "    Xos, Θgos, Θcos = coupled_original_system(N, D, Nt, dt, XsI, g, coupled_func!, initθ, κ, alg)\n",
    "    print(\"OK\")\n",
    "    Xcpm, Θcpm = coupled_conventinal_phase_model(N, D, Nt, dt, XsI, g, ωI, ζθI, Θcos[1, :], κ, alg)\n",
    "    if input_mode == \"I\"\n",
    "        IΘ = compute_IsΘ(g, N, D, XsI, NΘ)\n",
    "        Xgpm, Θgpm = coupled_generalized_phase_model_I(N, D, Nt, dt, XsI, IΘ, ωI, ξθI, Θgos[1, :], κ, alg)\n",
    "        return Xos, Xcpm, Xgpm, Θgos, Θcos, Θcpm, Θgpm, IΘ\n",
    "    elseif input_mode == \"PQ\"\n",
    "        QΘ = compute_QΘ(g, N, D, XsI, κ, ωI, NΘ)\n",
    "        Xgpm, Θgpm = coupled_generalized_phase_model_PQ(N, D, Nt, dt, XsI, QΘ, ωI, ζθI, ξθI, Θgos[1, :], κ, g, alg)\n",
    "        return Xos, Xcpm, Xgpm, Θgos, Θcos, Θcpm, Θgpm, QΘ\n",
    "    end\n",
    "end"
   ]
  },
  {
   "cell_type": "code",
   "execution_count": 18,
   "metadata": {},
   "outputs": [
    {
     "name": "stdout",
     "output_type": "stream",
     "text": [
      "OK"
     ]
    },
    {
     "ename": "LoadError",
     "evalue": "UndefVarError: D not defined",
     "output_type": "error",
     "traceback": [
      "UndefVarError: D not defined",
      "",
      "Stacktrace:",
      "  [1] (::GeneralizedPhaseModel.var\"#26#28\"{Vector{Interpolations.ScaledInterpolation{Float64, 2, Interpolations.BSplineInterpolation{Float64, 2, OffsetArrays.OffsetMatrix{Float64, Matrix{Float64}}, Interpolations.BSpline{Interpolations.Cubic{Interpolations.Line{Interpolations.OnGrid}}}, Tuple{Base.OneTo{Int64}, Base.OneTo{Int64}}}, Interpolations.BSpline{Interpolations.Cubic{Interpolations.Line{Interpolations.OnGrid}}}, Tuple{StepRangeLen{Float64, Base.TwicePrecision{Float64}, Base.TwicePrecision{Float64}}, StepRangeLen{Float64, Base.TwicePrecision{Float64}, Base.TwicePrecision{Float64}}}}}})(θ::Float64)",
      "    @ GeneralizedPhaseModel .\\none:0",
      "  [2] iterate",
      "    @ .\\generator.jl:47 [inlined]",
      "  [3] collect(itr::Base.Generator{Vector{Float64}, GeneralizedPhaseModel.var\"#26#28\"{Vector{Interpolations.ScaledInterpolation{Float64, 2, Interpolations.BSplineInterpolation{Float64, 2, OffsetArrays.OffsetMatrix{Float64, Matrix{Float64}}, Interpolations.BSpline{Interpolations.Cubic{Interpolations.Line{Interpolations.OnGrid}}}, Tuple{Base.OneTo{Int64}, Base.OneTo{Int64}}}, Interpolations.BSpline{Interpolations.Cubic{Interpolations.Line{Interpolations.OnGrid}}}, Tuple{StepRangeLen{Float64, Base.TwicePrecision{Float64}, Base.TwicePrecision{Float64}}, StepRangeLen{Float64, Base.TwicePrecision{Float64}, Base.TwicePrecision{Float64}}}}}}})",
      "    @ Base .\\array.jl:678",
      "  [4] conventinal_coupled_updateΘ(Θ::Vector{Float64}, p::Tuple{Int64, Vector{Float64}, var\"#g#4\"{typeof(G), Float64}, Interpolations.ScaledInterpolation{Float64, 1, Interpolations.BSplineInterpolation{Float64, 1, OffsetArrays.OffsetVector{Float64, Vector{Float64}}, Interpolations.BSpline{Interpolations.Cubic{Interpolations.Line{Interpolations.OnGrid}}}, Tuple{Base.OneTo{Int64}}}, Interpolations.BSpline{Interpolations.Cubic{Interpolations.Line{Interpolations.OnGrid}}}, Tuple{StepRangeLen{Float64, Base.TwicePrecision{Float64}, Base.TwicePrecision{Float64}}}}, Interpolations.ScaledInterpolation{Float64, 2, Interpolations.BSplineInterpolation{Float64, 2, OffsetArrays.OffsetMatrix{Float64, Matrix{Float64}}, Interpolations.BSpline{Interpolations.Cubic{Interpolations.Line{Interpolations.OnGrid}}}, Tuple{Base.OneTo{Int64}, Base.OneTo{Int64}}}, Interpolations.BSpline{Interpolations.Cubic{Interpolations.Line{Interpolations.OnGrid}}}, Tuple{StepRangeLen{Float64, Base.TwicePrecision{Float64}, Base.TwicePrecision{Float64}}, StepRangeLen{Float64, Base.TwicePrecision{Float64}, Base.TwicePrecision{Float64}}}}, Vector{Interpolations.ScaledInterpolation{Float64, 2, Interpolations.BSplineInterpolation{Float64, 2, OffsetArrays.OffsetMatrix{Float64, Matrix{Float64}}, Interpolations.BSpline{Interpolations.Cubic{Interpolations.Line{Interpolations.OnGrid}}}, Tuple{Base.OneTo{Int64}, Base.OneTo{Int64}}}, Interpolations.BSpline{Interpolations.Cubic{Interpolations.Line{Interpolations.OnGrid}}}, Tuple{StepRangeLen{Float64, Base.TwicePrecision{Float64}, Base.TwicePrecision{Float64}}, StepRangeLen{Float64, Base.TwicePrecision{Float64}, Base.TwicePrecision{Float64}}}}}}, t::Float64)",
      "    @ GeneralizedPhaseModel D:\\github\\GeneralizedPhaseModel.jl\\src\\coupled_phase_equation.jl:106",
      "  [5] ODEFunction",
      "    @ C:\\Users\\yamtak\\.julia\\packages\\SciMLBase\\x3z0g\\src\\scimlfunctions.jl:334 [inlined]",
      "  [6] initialize!(integrator::OrdinaryDiffEq.ODEIntegrator{Tsit5{typeof(OrdinaryDiffEq.trivial_limiter!), typeof(OrdinaryDiffEq.trivial_limiter!), Static.False}, false, Vector{Float64}, Nothing, Float64, Tuple{Int64, Vector{Float64}, var\"#g#4\"{typeof(G), Float64}, Interpolations.ScaledInterpolation{Float64, 1, Interpolations.BSplineInterpolation{Float64, 1, OffsetArrays.OffsetVector{Float64, Vector{Float64}}, Interpolations.BSpline{Interpolations.Cubic{Interpolations.Line{Interpolations.OnGrid}}}, Tuple{Base.OneTo{Int64}}}, Interpolations.BSpline{Interpolations.Cubic{Interpolations.Line{Interpolations.OnGrid}}}, Tuple{StepRangeLen{Float64, Base.TwicePrecision{Float64}, Base.TwicePrecision{Float64}}}}, Interpolations.ScaledInterpolation{Float64, 2, Interpolations.BSplineInterpolation{Float64, 2, OffsetArrays.OffsetMatrix{Float64, Matrix{Float64}}, Interpolations.BSpline{Interpolations.Cubic{Interpolations.Line{Interpolations.OnGrid}}}, Tuple{Base.OneTo{Int64}, Base.OneTo{Int64}}}, Interpolations.BSpline{Interpolations.Cubic{Interpolations.Line{Interpolations.OnGrid}}}, Tuple{StepRangeLen{Float64, Base.TwicePrecision{Float64}, Base.TwicePrecision{Float64}}, StepRangeLen{Float64, Base.TwicePrecision{Float64}, Base.TwicePrecision{Float64}}}}, Vector{Interpolations.ScaledInterpolation{Float64, 2, Interpolations.BSplineInterpolation{Float64, 2, OffsetArrays.OffsetMatrix{Float64, Matrix{Float64}}, Interpolations.BSpline{Interpolations.Cubic{Interpolations.Line{Interpolations.OnGrid}}}, Tuple{Base.OneTo{Int64}, Base.OneTo{Int64}}}, Interpolations.BSpline{Interpolations.Cubic{Interpolations.Line{Interpolations.OnGrid}}}, Tuple{StepRangeLen{Float64, Base.TwicePrecision{Float64}, Base.TwicePrecision{Float64}}, StepRangeLen{Float64, Base.TwicePrecision{Float64}, Base.TwicePrecision{Float64}}}}}}, Float64, Float64, Float64, Float64, Vector{Vector{Float64}}, ODESolution{Float64, 2, Vector{Vector{Float64}}, Nothing, Nothing, Vector{Float64}, Vector{Vector{Vector{Float64}}}, ODEProblem{Vector{Float64}, Tuple{Float64, Float64}, false, Tuple{Int64, Vector{Float64}, var\"#g#4\"{typeof(G), Float64}, Interpolations.ScaledInterpolation{Float64, 1, Interpolations.BSplineInterpolation{Float64, 1, OffsetArrays.OffsetVector{Float64, Vector{Float64}}, Interpolations.BSpline{Interpolations.Cubic{Interpolations.Line{Interpolations.OnGrid}}}, Tuple{Base.OneTo{Int64}}}, Interpolations.BSpline{Interpolations.Cubic{Interpolations.Line{Interpolations.OnGrid}}}, Tuple{StepRangeLen{Float64, Base.TwicePrecision{Float64}, Base.TwicePrecision{Float64}}}}, Interpolations.ScaledInterpolation{Float64, 2, Interpolations.BSplineInterpolation{Float64, 2, OffsetArrays.OffsetMatrix{Float64, Matrix{Float64}}, Interpolations.BSpline{Interpolations.Cubic{Interpolations.Line{Interpolations.OnGrid}}}, Tuple{Base.OneTo{Int64}, Base.OneTo{Int64}}}, Interpolations.BSpline{Interpolations.Cubic{Interpolations.Line{Interpolations.OnGrid}}}, Tuple{StepRangeLen{Float64, Base.TwicePrecision{Float64}, Base.TwicePrecision{Float64}}, StepRangeLen{Float64, Base.TwicePrecision{Float64}, Base.TwicePrecision{Float64}}}}, Vector{Interpolations.ScaledInterpolation{Float64, 2, Interpolations.BSplineInterpolation{Float64, 2, OffsetArrays.OffsetMatrix{Float64, Matrix{Float64}}, Interpolations.BSpline{Interpolations.Cubic{Interpolations.Line{Interpolations.OnGrid}}}, Tuple{Base.OneTo{Int64}, Base.OneTo{Int64}}}, Interpolations.BSpline{Interpolations.Cubic{Interpolations.Line{Interpolations.OnGrid}}}, Tuple{StepRangeLen{Float64, Base.TwicePrecision{Float64}, Base.TwicePrecision{Float64}}, StepRangeLen{Float64, Base.TwicePrecision{Float64}, Base.TwicePrecision{Float64}}}}}}, ODEFunction{false, typeof(conventinal_coupled_updateΘ), LinearAlgebra.UniformScaling{Bool}, Nothing, Nothing, Nothing, Nothing, Nothing, Nothing, Nothing, Nothing, Nothing, Nothing, Nothing, Nothing, typeof(SciMLBase.DEFAULT_OBSERVED), Nothing}, Base.Iterators.Pairs{Union{}, Union{}, Tuple{}, NamedTuple{(), Tuple{}}}, SciMLBase.StandardODEProblem}, Tsit5{typeof(OrdinaryDiffEq.trivial_limiter!), typeof(OrdinaryDiffEq.trivial_limiter!), Static.False}, OrdinaryDiffEq.InterpolationData{ODEFunction{false, typeof(conventinal_coupled_updateΘ), LinearAlgebra.UniformScaling{Bool}, Nothing, Nothing, Nothing, Nothing, Nothing, Nothing, Nothing, Nothing, Nothing, Nothing, Nothing, Nothing, typeof(SciMLBase.DEFAULT_OBSERVED), Nothing}, Vector{Vector{Float64}}, Vector{Float64}, Vector{Vector{Vector{Float64}}}, OrdinaryDiffEq.Tsit5ConstantCache{Float64, Float64}}, DiffEqBase.DEStats}, ODEFunction{false, typeof(conventinal_coupled_updateΘ), LinearAlgebra.UniformScaling{Bool}, Nothing, Nothing, Nothing, Nothing, Nothing, Nothing, Nothing, Nothing, Nothing, Nothing, Nothing, Nothing, typeof(SciMLBase.DEFAULT_OBSERVED), Nothing}, OrdinaryDiffEq.Tsit5ConstantCache{Float64, Float64}, OrdinaryDiffEq.DEOptions{Float64, Float64, Float64, Float64, PIController{Rational{Int64}}, typeof(DiffEqBase.ODE_DEFAULT_NORM), typeof(LinearAlgebra.opnorm), Nothing, CallbackSet{Tuple{}, Tuple{}}, typeof(DiffEqBase.ODE_DEFAULT_ISOUTOFDOMAIN), typeof(DiffEqBase.ODE_DEFAULT_PROG_MESSAGE), typeof(DiffEqBase.ODE_DEFAULT_UNSTABLE_CHECK), DataStructures.BinaryHeap{Float64, DataStructures.FasterForward}, DataStructures.BinaryHeap{Float64, DataStructures.FasterForward}, Nothing, Nothing, Float64, Tuple{}, Tuple{}, Tuple{}}, Vector{Float64}, Float64, Nothing, OrdinaryDiffEq.DefaultInit}, cache::OrdinaryDiffEq.Tsit5ConstantCache{Float64, Float64})",
      "    @ OrdinaryDiffEq C:\\Users\\yamtak\\.julia\\packages\\OrdinaryDiffEq\\JsAS0\\src\\perform_step\\low_order_rk_perform_step.jl:569",
      "  [7] __init(prob::ODEProblem{Vector{Float64}, Tuple{Float64, Float64}, false, Tuple{Int64, Vector{Float64}, var\"#g#4\"{typeof(G), Float64}, Interpolations.ScaledInterpolation{Float64, 1, Interpolations.BSplineInterpolation{Float64, 1, OffsetArrays.OffsetVector{Float64, Vector{Float64}}, Interpolations.BSpline{Interpolations.Cubic{Interpolations.Line{Interpolations.OnGrid}}}, Tuple{Base.OneTo{Int64}}}, Interpolations.BSpline{Interpolations.Cubic{Interpolations.Line{Interpolations.OnGrid}}}, Tuple{StepRangeLen{Float64, Base.TwicePrecision{Float64}, Base.TwicePrecision{Float64}}}}, Interpolations.ScaledInterpolation{Float64, 2, Interpolations.BSplineInterpolation{Float64, 2, OffsetArrays.OffsetMatrix{Float64, Matrix{Float64}}, Interpolations.BSpline{Interpolations.Cubic{Interpolations.Line{Interpolations.OnGrid}}}, Tuple{Base.OneTo{Int64}, Base.OneTo{Int64}}}, Interpolations.BSpline{Interpolations.Cubic{Interpolations.Line{Interpolations.OnGrid}}}, Tuple{StepRangeLen{Float64, Base.TwicePrecision{Float64}, Base.TwicePrecision{Float64}}, StepRangeLen{Float64, Base.TwicePrecision{Float64}, Base.TwicePrecision{Float64}}}}, Vector{Interpolations.ScaledInterpolation{Float64, 2, Interpolations.BSplineInterpolation{Float64, 2, OffsetArrays.OffsetMatrix{Float64, Matrix{Float64}}, Interpolations.BSpline{Interpolations.Cubic{Interpolations.Line{Interpolations.OnGrid}}}, Tuple{Base.OneTo{Int64}, Base.OneTo{Int64}}}, Interpolations.BSpline{Interpolations.Cubic{Interpolations.Line{Interpolations.OnGrid}}}, Tuple{StepRangeLen{Float64, Base.TwicePrecision{Float64}, Base.TwicePrecision{Float64}}, StepRangeLen{Float64, Base.TwicePrecision{Float64}, Base.TwicePrecision{Float64}}}}}}, ODEFunction{false, typeof(conventinal_coupled_updateΘ), LinearAlgebra.UniformScaling{Bool}, Nothing, Nothing, Nothing, Nothing, Nothing, Nothing, Nothing, Nothing, Nothing, Nothing, Nothing, Nothing, typeof(SciMLBase.DEFAULT_OBSERVED), Nothing}, Base.Iterators.Pairs{Union{}, Union{}, Tuple{}, NamedTuple{(), Tuple{}}}, SciMLBase.StandardODEProblem}, alg::Tsit5{typeof(OrdinaryDiffEq.trivial_limiter!), typeof(OrdinaryDiffEq.trivial_limiter!), Static.False}, timeseries_init::Tuple{}, ts_init::Tuple{}, ks_init::Tuple{}, recompile::Type{Val{true}}; saveat::Tuple{}, tstops::Tuple{}, d_discontinuities::Tuple{}, save_idxs::Nothing, save_everystep::Bool, save_on::Bool, save_start::Bool, save_end::Nothing, callback::Nothing, dense::Bool, calck::Bool, dt::Float64, dtmin::Nothing, dtmax::Float64, force_dtmin::Bool, adaptive::Bool, gamma::Rational{Int64}, abstol::Nothing, reltol::Nothing, qmin::Rational{Int64}, qmax::Int64, qsteady_min::Int64, qsteady_max::Int64, beta1::Nothing, beta2::Nothing, qoldinit::Rational{Int64}, controller::Nothing, fullnormalize::Bool, failfactor::Int64, maxiters::Float64, internalnorm::typeof(DiffEqBase.ODE_DEFAULT_NORM), internalopnorm::typeof(LinearAlgebra.opnorm), isoutofdomain::typeof(DiffEqBase.ODE_DEFAULT_ISOUTOFDOMAIN), unstable_check::typeof(DiffEqBase.ODE_DEFAULT_UNSTABLE_CHECK), verbose::Bool, timeseries_errors::Bool, dense_errors::Bool, advance_to_tstop::Bool, stop_at_next_tstop::Bool, initialize_save::Bool, progress::Bool, progress_steps::Int64, progress_name::String, progress_message::typeof(DiffEqBase.ODE_DEFAULT_PROG_MESSAGE), userdata::Nothing, allow_extrapolation::Bool, initialize_integrator::Bool, alias_u0::Bool, alias_du0::Bool, initializealg::OrdinaryDiffEq.DefaultInit, kwargs::Base.Iterators.Pairs{Union{}, Union{}, Tuple{}, NamedTuple{(), Tuple{}}})",
      "    @ OrdinaryDiffEq C:\\Users\\yamtak\\.julia\\packages\\OrdinaryDiffEq\\JsAS0\\src\\solve.jl:456",
      "  [8] #init_call#40",
      "    @ C:\\Users\\yamtak\\.julia\\packages\\DiffEqBase\\b1nST\\src\\solve.jl:28 [inlined]",
      "  [9] #init#41",
      "    @ C:\\Users\\yamtak\\.julia\\packages\\DiffEqBase\\b1nST\\src\\solve.jl:40 [inlined]",
      " [10] get_ode_integrator(func::Function, u0::Vector{Float64}, dt::Float64, param::Tuple{Int64, Vector{Float64}, var\"#g#4\"{typeof(G), Float64}, Interpolations.ScaledInterpolation{Float64, 1, Interpolations.BSplineInterpolation{Float64, 1, OffsetArrays.OffsetVector{Float64, Vector{Float64}}, Interpolations.BSpline{Interpolations.Cubic{Interpolations.Line{Interpolations.OnGrid}}}, Tuple{Base.OneTo{Int64}}}, Interpolations.BSpline{Interpolations.Cubic{Interpolations.Line{Interpolations.OnGrid}}}, Tuple{StepRangeLen{Float64, Base.TwicePrecision{Float64}, Base.TwicePrecision{Float64}}}}, Interpolations.ScaledInterpolation{Float64, 2, Interpolations.BSplineInterpolation{Float64, 2, OffsetArrays.OffsetMatrix{Float64, Matrix{Float64}}, Interpolations.BSpline{Interpolations.Cubic{Interpolations.Line{Interpolations.OnGrid}}}, Tuple{Base.OneTo{Int64}, Base.OneTo{Int64}}}, Interpolations.BSpline{Interpolations.Cubic{Interpolations.Line{Interpolations.OnGrid}}}, Tuple{StepRangeLen{Float64, Base.TwicePrecision{Float64}, Base.TwicePrecision{Float64}}, StepRangeLen{Float64, Base.TwicePrecision{Float64}, Base.TwicePrecision{Float64}}}}, Vector{Interpolations.ScaledInterpolation{Float64, 2, Interpolations.BSplineInterpolation{Float64, 2, OffsetArrays.OffsetMatrix{Float64, Matrix{Float64}}, Interpolations.BSpline{Interpolations.Cubic{Interpolations.Line{Interpolations.OnGrid}}}, Tuple{Base.OneTo{Int64}, Base.OneTo{Int64}}}, Interpolations.BSpline{Interpolations.Cubic{Interpolations.Line{Interpolations.OnGrid}}}, Tuple{StepRangeLen{Float64, Base.TwicePrecision{Float64}, Base.TwicePrecision{Float64}}, StepRangeLen{Float64, Base.TwicePrecision{Float64}, Base.TwicePrecision{Float64}}}}}}, alg::Tsit5{typeof(OrdinaryDiffEq.trivial_limiter!), typeof(OrdinaryDiffEq.trivial_limiter!), Static.False}, maxiters::Float64)",
      "    @ GeneralizedPhaseModel D:\\github\\GeneralizedPhaseModel.jl\\src\\differential_equations_extensions.jl:23",
      " [11] get_ode_integrator",
      "    @ D:\\github\\GeneralizedPhaseModel.jl\\src\\differential_equations_extensions.jl:2 [inlined]",
      " [12] coupled_conventinal_phase_model(N::Int64, D::Int64, Nt::Int64, dt::Float64, XsI::Vector{Interpolations.ScaledInterpolation{Float64, 2, Interpolations.BSplineInterpolation{Float64, 2, OffsetArrays.OffsetMatrix{Float64, Matrix{Float64}}, Interpolations.BSpline{Interpolations.Cubic{Interpolations.Line{Interpolations.OnGrid}}}, Tuple{Base.OneTo{Int64}, Base.OneTo{Int64}}}, Interpolations.BSpline{Interpolations.Cubic{Interpolations.Line{Interpolations.OnGrid}}}, Tuple{StepRangeLen{Float64, Base.TwicePrecision{Float64}, Base.TwicePrecision{Float64}}, StepRangeLen{Float64, Base.TwicePrecision{Float64}, Base.TwicePrecision{Float64}}}}}, G::var\"#g#4\"{typeof(G), Float64}, ωI::Interpolations.ScaledInterpolation{Float64, 1, Interpolations.BSplineInterpolation{Float64, 1, OffsetArrays.OffsetVector{Float64, Vector{Float64}}, Interpolations.BSpline{Interpolations.Cubic{Interpolations.Line{Interpolations.OnGrid}}}, Tuple{Base.OneTo{Int64}}}, Interpolations.BSpline{Interpolations.Cubic{Interpolations.Line{Interpolations.OnGrid}}}, Tuple{StepRangeLen{Float64, Base.TwicePrecision{Float64}, Base.TwicePrecision{Float64}}}}, ζθI::Interpolations.ScaledInterpolation{Float64, 2, Interpolations.BSplineInterpolation{Float64, 2, OffsetArrays.OffsetMatrix{Float64, Matrix{Float64}}, Interpolations.BSpline{Interpolations.Cubic{Interpolations.Line{Interpolations.OnGrid}}}, Tuple{Base.OneTo{Int64}, Base.OneTo{Int64}}}, Interpolations.BSpline{Interpolations.Cubic{Interpolations.Line{Interpolations.OnGrid}}}, Tuple{StepRangeLen{Float64, Base.TwicePrecision{Float64}, Base.TwicePrecision{Float64}}, StepRangeLen{Float64, Base.TwicePrecision{Float64}, Base.TwicePrecision{Float64}}}}, initθ::Vector{Float64}, κ::Vector{Float64}, alg::Tsit5{typeof(OrdinaryDiffEq.trivial_limiter!), typeof(OrdinaryDiffEq.trivial_limiter!), Static.False})",
      "    @ GeneralizedPhaseModel D:\\github\\GeneralizedPhaseModel.jl\\src\\coupled_phase_equation.jl:159",
      " [13] all_simulation(N::Int64, D::Int64, ωI::Interpolations.ScaledInterpolation{Float64, 1, Interpolations.BSplineInterpolation{Float64, 1, OffsetArrays.OffsetVector{Float64, Vector{Float64}}, Interpolations.BSpline{Interpolations.Cubic{Interpolations.Line{Interpolations.OnGrid}}}, Tuple{Base.OneTo{Int64}}}, Interpolations.BSpline{Interpolations.Cubic{Interpolations.Line{Interpolations.OnGrid}}}, Tuple{StepRangeLen{Float64, Base.TwicePrecision{Float64}, Base.TwicePrecision{Float64}}}}, ζθI::Interpolations.ScaledInterpolation{Float64, 2, Interpolations.BSplineInterpolation{Float64, 2, OffsetArrays.OffsetMatrix{Float64, Matrix{Float64}}, Interpolations.BSpline{Interpolations.Cubic{Interpolations.Line{Interpolations.OnGrid}}}, Tuple{Base.OneTo{Int64}, Base.OneTo{Int64}}}, Interpolations.BSpline{Interpolations.Cubic{Interpolations.Line{Interpolations.OnGrid}}}, Tuple{StepRangeLen{Float64, Base.TwicePrecision{Float64}, Base.TwicePrecision{Float64}}, StepRangeLen{Float64, Base.TwicePrecision{Float64}, Base.TwicePrecision{Float64}}}}, ξθI::Interpolations.ScaledInterpolation{Float64, 2, Interpolations.BSplineInterpolation{Float64, 2, OffsetArrays.OffsetMatrix{Float64, Matrix{Float64}}, Interpolations.BSpline{Interpolations.Cubic{Interpolations.Line{Interpolations.OnGrid}}}, Tuple{Base.OneTo{Int64}, Base.OneTo{Int64}}}, Interpolations.BSpline{Interpolations.Cubic{Interpolations.Line{Interpolations.OnGrid}}}, Tuple{StepRangeLen{Float64, Base.TwicePrecision{Float64}, Base.TwicePrecision{Float64}}, StepRangeLen{Float64, Base.TwicePrecision{Float64}, Base.TwicePrecision{Float64}}}}, XsI::Vector{Interpolations.ScaledInterpolation{Float64, 2, Interpolations.BSplineInterpolation{Float64, 2, OffsetArrays.OffsetMatrix{Float64, Matrix{Float64}}, Interpolations.BSpline{Interpolations.Cubic{Interpolations.Line{Interpolations.OnGrid}}}, Tuple{Base.OneTo{Int64}, Base.OneTo{Int64}}}, Interpolations.BSpline{Interpolations.Cubic{Interpolations.Line{Interpolations.OnGrid}}}, Tuple{StepRangeLen{Float64, Base.TwicePrecision{Float64}, Base.TwicePrecision{Float64}}, StepRangeLen{Float64, Base.TwicePrecision{Float64}, Base.TwicePrecision{Float64}}}}}, coupled_func!::Function, G::typeof(G), K::Float64, κ::Vector{Float64}, initθ::Vector{Float64}, alg::Tsit5{typeof(OrdinaryDiffEq.trivial_limiter!), typeof(OrdinaryDiffEq.trivial_limiter!), Static.False}, NΘ::Int64, input_mode::String)",
      "    @ Main .\\In[17]:7",
      " [14] top-level scope",
      "    @ .\\timing.jl:210 [inlined]",
      " [15] top-level scope",
      "    @ .\\In[18]:0",
      " [16] eval",
      "    @ .\\boot.jl:360 [inlined]",
      " [17] include_string(mapexpr::typeof(REPL.softscope), mod::Module, code::String, filename::String)",
      "    @ Base .\\loading.jl:1116"
     ]
    }
   ],
   "source": [
    "K = 0.5\n",
    "κ = [1.0, 1.5]\n",
    "initθ = [0, π]\n",
    "NΘ = 50\n",
    "input_mode = \"I\" # \"I\" or \"PQ\"\n",
    "\n",
    "@time Xos, Xcpm, Xgpm, Θgos, Θcos, Θcpm, Θgpm, IΘ = all_simulation(\n",
    "    N, D, ωI, ζθI, ξθI, XsI, coupled_func!, G, K, κ, initθ, alg, NΘ, input_mode);"
   ]
  },
  {
   "cell_type": "markdown",
   "metadata": {},
   "source": [
    "### Results"
   ]
  },
  {
   "cell_type": "code",
   "execution_count": 9,
   "metadata": {},
   "outputs": [
    {
     "name": "stderr",
     "output_type": "stream",
     "text": [
      "sys:1: MatplotlibDeprecationWarning: Support for setting the 'text.latex.preamble' or 'pgf.preamble' rcParam to a list of strings is deprecated since 3.3 and will be removed two minor releases later; set it to a single string instead.\r\n"
     ]
    }
   ],
   "source": [
    "plt.rc(\"text\", usetex=true)\n",
    "PyCall.PyDict(plt.\"rcParams\")[\"font.size\"] = 14\n",
    "PyCall.PyDict(plt.\"rcParams\")[\"xtick.direction\"] = \"in\"\n",
    "PyCall.PyDict(plt.\"rcParams\")[\"ytick.direction\"] = \"in\"\n",
    "PyCall.PyDict(plt.\"rcParams\")[\"xtick.minor.visible\"] = true\n",
    "PyCall.PyDict(plt.\"rcParams\")[\"ytick.minor.visible\"] = true\n",
    "PyCall.PyDict(plt.\"rcParams\")[\"xtick.top\"] = true \n",
    "PyCall.PyDict(plt.\"rcParams\")[\"ytick.right\"] = true \n",
    "PyCall.PyDict(plt.\"rcParams\")[\"font.family\"] = \"Arial\"\n",
    "PyCall.PyDict(plt.\"rcParams\")[\"text.latex.preamble\"] = [raw\"\\usepackage{amsmath}\"];"
   ]
  },
  {
   "cell_type": "code",
   "execution_count": 10,
   "metadata": {},
   "outputs": [],
   "source": [
    "ωt1 = (κ[1]*ω) .* trange\n",
    "ωt2 = (κ[2]*ω) .* trange;\n",
    "Δωt = ωt2 - ωt1;\n",
    "Θrange = range(0, 2π, length=100)\n",
    "Irange = 1.2:-0.1:-1.2;"
   ]
  },
  {
   "cell_type": "code",
   "execution_count": 11,
   "metadata": {},
   "outputs": [
    {
     "ename": "LoadError",
     "evalue": "UndefVarError: IΘ not defined",
     "output_type": "error",
     "traceback": [
      "UndefVarError: IΘ not defined",
      "",
      "Stacktrace:",
      " [1] top-level scope",
      "   @ In[11]:29",
      " [2] eval",
      "   @ .\\boot.jl:360 [inlined]",
      " [3] include_string(mapexpr::typeof(REPL.softscope), mod::Module, code::String, filename::String)",
      "   @ Base .\\loading.jl:1116"
     ]
    }
   ],
   "source": [
    "figure(figsize=(16, 6), dpi=300)\n",
    "gca().set_rasterization_zorder(1)\n",
    "#### left ####\n",
    "ax7 = subplot2grid((7, 8), (0, 0), rowspan=2, colspan=2)\n",
    "ζ=ζθI(Θrange, Irange)'\n",
    "contour(Θrange, Irange, ζ, 10, colors=\"white\")\n",
    "imshow(ζ, extent=(0, 2pi, -1.2, 1.2))\n",
    "ylabel(L\"$I$\"); xlabel(L\"$\\theta$\");\n",
    "xticks([0, pi, 2pi], [\"0\", L\"$\\pi$\", L\"$2\\pi$\"]);\n",
    "divider7 = axes_grid1.make_axes_locatable(ax7)\n",
    "cax7 = divider7.append_axes(\"right\", size=\"5%\", pad=0.1)\n",
    "cbar7 = colorbar(cax=cax7)\n",
    "cbar7.set_label(L\"$\\zeta (\\theta, I)$\")\n",
    "ax7.text(-0.15, 1.3, \"(a)\", fontsize=16, transform=ax7.transAxes, fontweight=\"bold\", va=\"top\")\n",
    "\n",
    "ax8 = subplot2grid((7, 8), (2, 0), rowspan=2, colspan=2)\n",
    "ξ=ξθI(Θrange, Irange)'\n",
    "contour(Θrange, Irange, ξ, 10, colors=\"white\")\n",
    "imshow(ξ, extent=(0, 2pi, -1.2, 1.2))\n",
    "ylabel(L\"$I$\"); xlabel(L\"$\\theta$\");\n",
    "xticks([0, pi, 2pi], [\"0\", L\"$\\pi$\", L\"$2\\pi$\"]);\n",
    "divider8 = axes_grid1.make_axes_locatable(ax8)\n",
    "cax8 = divider8.append_axes(\"right\", size=\"5%\", pad=0.1)\n",
    "cbar8 = colorbar(cax=cax8)\n",
    "cbar8.set_label(L\"$\\xi (\\theta, I)$\")\n",
    "ax8.text(-0.15, 1.3, \"(b)\", fontsize=16, transform=ax8.transAxes, fontweight=\"bold\", va=\"top\")\n",
    "\n",
    "ax9 = subplot2grid((7, 8), (4, 0), rowspan=3, colspan=2)\n",
    "IΘmap=IΘ[1](Θrange, Θrange)\n",
    "contour(Θrange, Θrange, IΘmap, 10, colors=\"white\")\n",
    "imshow(reverse(IΘmap, dims=1), extent=(0, 2pi, 0, 2pi))\n",
    "xlabel(L\"$\\theta_1$\"); ylabel(L\"$\\theta_2$\");\n",
    "xticks([0, pi, 2pi], [\"0\", L\"$\\pi$\", L\"$2\\pi$\"]);\n",
    "yticks([0, pi, 2pi], [\"0\", L\"$\\pi$\", L\"$2\\pi$\"]);\n",
    "divider9 = axes_grid1.make_axes_locatable(ax9)\n",
    "cax9 = divider9.append_axes(\"right\", size=\"5%\", pad=0.1)\n",
    "cbar9 = colorbar(cax=cax9)\n",
    "cbar9.set_label(L\"$Q_1\\left(\\theta_1, \\theta_2\\right)$\")\n",
    "ax9.text(-0.15, 1.2, \"(c)\", fontsize=16, transform=ax9.transAxes, fontweight=\"bold\", va=\"top\")\n",
    "\n",
    "#### middle ####\n",
    "ax1 = subplot2grid((7, 8), (0, 2), rowspan=3, colspan=3)\n",
    "# title(\"Conventinal phase model\")\n",
    "plot(trange, Xos[:, 1, 1], label=\"original system\", color=\"tab:orange\")\n",
    "plot(trange, Xcpm[:, 1, 1], \"--\", label=\"phase eq. [conventional]\", color=\"tab:red\")\n",
    "plot(trange, Xos[:, 2, 1], label=\" \", color=\"tab:green\")\n",
    "plot(trange, Xcpm[:, 2, 1], \"--\", label=\" \", color=\"tab:blue\")\n",
    "xlim(trange[1], trange[end]); ylim(ylim()[1]-0.3, ylim()[2]+1.8); ylabel(L\"$x_1(t), x_2(t)$\"); \n",
    "plt.gca().axes.xaxis.set_ticklabels([])\n",
    "ax1.text(-0.15, 1.15, \"(d)\", fontsize=16, transform=ax1.transAxes, fontweight=\"bold\", va=\"top\")\n",
    "legend(loc=\"upper right\", ncol=2, columnspacing=0, labelspacing=0.1, frameon=false, markerfirst=false)\n",
    "\n",
    "ax3=subplot2grid((7, 8), (3, 2), rowspan=2, colspan=3)\n",
    "plot(trange, Θcos[:, 1]-ωt1, label=\"original system\", color=\"tab:orange\")\n",
    "plot(trange, Θcpm[:, 1]-ωt1, \"--\", label=\"phase eq. [conventional]\", color=\"tab:red\")\n",
    "plot(trange, Θcos[:, 2]-ωt2, label=\" \", color=\"tab:green\") \n",
    "plot(trange, Θcpm[:, 2]-ωt2, \"--\", label=\" \", color=\"tab:blue\")\n",
    "xlim(trange[1], trange[end]); ylim(ylim()[1]-0.3, ylim()[2]+8); ylabel(L\"$\\theta(t)-\\omega t$\"); \n",
    "plt.gca().axes.xaxis.set_ticklabels([])\n",
    "ax3.text(-0.15, 1.3, \"(f)\", fontsize=16, transform=ax3.transAxes, fontweight=\"bold\", va=\"top\")\n",
    "legend(loc=\"upper right\", ncol=2, columnspacing=0, labelspacing=0.1, frameon=false, markerfirst=false)\n",
    "\n",
    "ax5=subplot2grid((7, 8), (5, 2), rowspan=2, colspan=3)\n",
    "plot(trange, Θcos[:, 2]-Θcos[:, 1]-Δωt, label=\"original system\", color=\"tab:green\")\n",
    "plot(trange, Θcpm[:, 2]-Θcpm[:, 1]-Δωt, \"--\", label=\"phase eq. [conventional]\", color=\"tab:blue\")\n",
    "xlim(trange[1], trange[end]); ylim(ylim()[1]-0.3, ylim()[2]+4); ylabel(L\"$\\Delta \\theta(t)-\\Delta \\omega t$\"); xlabel(L\"$t$\");\n",
    "yticks([-4, -2,0,2])\n",
    "ax5.text(-0.15, 1.3, \"(h)\", fontsize=16, transform=ax5.transAxes, fontweight=\"bold\", va=\"top\")\n",
    "legend(loc=\"upper right\", ncol=1, columnspacing=0, labelspacing=0.1, frameon=false, markerfirst=false)\n",
    "\n",
    "#### right ####\n",
    "ax2=subplot2grid((7, 8), (0, 5), rowspan=3, colspan=3)\n",
    "plot(trange, Xos[:, 1, 1], label=\"original system\", color=\"tab:orange\")\n",
    "plot(trange, Xgpm[:, 1, 1], \"--\", label=\"phase eq. [proposed]\", color=\"tab:red\")\n",
    "plot(trange, Xos[:, 2, 1], label=\" \", color=\"tab:green\")\n",
    "plot(trange, Xgpm[:, 2, 1], \"--\", label=\" \", color=\"tab:blue\")\n",
    "xlim(trange[1], trange[end]); ylim(ylim()[1]-0.3, ylim()[2]+1.8);  \n",
    "#ylabel(L\"$x_1(t), x_2(t)$\"); \n",
    "plt.gca().axes.xaxis.set_ticklabels([])\n",
    "ax2.text(-0.15, 1.15, \"(e)\", fontsize=16, transform=ax2.transAxes, fontweight=\"bold\", va=\"top\")\n",
    "legend(loc=\"upper right\", ncol=2, columnspacing=0, labelspacing=0.1, frameon=false, markerfirst=false)\n",
    "\n",
    "ax4=subplot2grid((7, 8), (3, 5), rowspan=2, colspan=3)\n",
    "plot(trange, Θgos[:, 1]-ωt1, label=\"original system\", color=\"tab:orange\")\n",
    "plot(trange, Θgpm[:, 1]-ωt1, \"--\", label=\"phase eq. [proposed]\", color=\"tab:red\")\n",
    "plot(trange, Θgos[:, 2]-ωt2, label=\" \", color=\"tab:green\") \n",
    "plot(trange, Θgpm[:, 2]-ωt2, \"--\", label=\" \", color=\"tab:blue\")\n",
    "xlim(trange[1], trange[end]); ylim(ylim()[1]-0.3, ylim()[2]+8); \n",
    "#ylabel(L\"$\\theta(t)-\\omega t$\"); \n",
    "plt.gca().axes.xaxis.set_ticklabels([])\n",
    "ax4.text(-0.15, 1.3, \"(g)\", fontsize=16, transform=ax4.transAxes, fontweight=\"bold\", va=\"top\")\n",
    "legend(loc=\"upper right\", ncol=2, columnspacing=0, labelspacing=0.1, frameon=false, markerfirst=false)\n",
    "\n",
    "ax6=subplot2grid((7, 8), (5, 5), rowspan=2, colspan=3)\n",
    "plot(trange, Θgos[:, 2]-Θgos[:, 1]-Δωt, label=\"original system\", color=\"tab:green\")\n",
    "plot(trange, Θgpm[:, 2]-Θgpm[:, 1]-Δωt, \"--\", label=\"phase eq. [proposed]\", color=\"tab:blue\")\n",
    "xlim(trange[1], trange[end]); ylim(ylim()[1]-0.3, ylim()[2]+4); \n",
    "yticks([-4, -2,0,2])\n",
    "#ylabel(L\"$\\Delta \\theta(t)-\\Delta \\omega t$\"); \n",
    "xlabel(L\"$t$\");\n",
    "ax6.text(-0.15, 1.3, \"(i)\", fontsize=16, transform=ax6.transAxes, fontweight=\"bold\", va=\"top\")\n",
    "legend(loc=\"upper right\", ncol=1, columnspacing=0, labelspacing=0.1, frameon=false, markerfirst=false)\n",
    "\n",
    "subplots_adjust(hspace=1, wspace=5)\n",
    "#show()\n",
    "savefig(\"fig1.svg\")"
   ]
  }
 ],
 "metadata": {
  "kernelspec": {
   "display_name": "Julia 1.6.2",
   "language": "julia",
   "name": "julia-1.6"
  },
  "language_info": {
   "file_extension": ".jl",
   "mimetype": "application/julia",
   "name": "julia",
   "version": "1.6.2"
  }
 },
 "nbformat": 4,
 "nbformat_minor": 4
}
