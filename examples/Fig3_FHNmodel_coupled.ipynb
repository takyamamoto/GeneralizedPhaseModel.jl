{
 "cells": [
  {
   "cell_type": "markdown",
   "metadata": {},
   "source": [
    "## Simulation of  modified Stuart-Landau (MSL) model with (generalized) phase model"
   ]
  },
  {
   "cell_type": "markdown",
   "metadata": {},
   "source": [
    "### Setup"
   ]
  },
  {
   "cell_type": "code",
   "execution_count": 1,
   "metadata": {},
   "outputs": [
    {
     "data": {
      "text/plain": [
       "PyObject <module 'mpl_toolkits.axes_grid1' from 'C:\\\\ProgramData\\\\Miniconda3\\\\lib\\\\site-packages\\\\mpl_toolkits\\\\axes_grid1\\\\__init__.py'>"
      ]
     },
     "execution_count": 1,
     "metadata": {},
     "output_type": "execute_result"
    }
   ],
   "source": [
    "using GeneralizedPhaseModel\n",
    "using DifferentialEquations, PyPlot\n",
    "using PyCall\n",
    "axes_grid1 = pyimport(\"mpl_toolkits.axes_grid1\")"
   ]
  },
  {
   "cell_type": "code",
   "execution_count": 2,
   "metadata": {},
   "outputs": [
    {
     "name": "stderr",
     "output_type": "stream",
     "text": [
      "sys:1: MatplotlibDeprecationWarning: Support for setting the 'text.latex.preamble' or 'pgf.preamble' rcParam to a list of strings is deprecated since 3.3 and will be removed two minor releases later; set it to a single string instead.\r\n"
     ]
    }
   ],
   "source": [
    "plt.rc(\"text\", usetex=true)\n",
    "PyCall.PyDict(plt.\"rcParams\")[\"font.size\"] = 14\n",
    "PyCall.PyDict(plt.\"rcParams\")[\"xtick.direction\"] = \"in\"\n",
    "PyCall.PyDict(plt.\"rcParams\")[\"ytick.direction\"] = \"in\"\n",
    "PyCall.PyDict(plt.\"rcParams\")[\"xtick.minor.visible\"] = true\n",
    "PyCall.PyDict(plt.\"rcParams\")[\"ytick.minor.visible\"] = true\n",
    "PyCall.PyDict(plt.\"rcParams\")[\"xtick.top\"] = true \n",
    "PyCall.PyDict(plt.\"rcParams\")[\"ytick.right\"] = true \n",
    "PyCall.PyDict(plt.\"rcParams\")[\"font.family\"] = \"Arial\"\n",
    "PyCall.PyDict(plt.\"rcParams\")[\"text.latex.preamble\"] = [raw\"\\usepackage{amsmath}\"];"
   ]
  },
  {
   "cell_type": "markdown",
   "metadata": {},
   "source": [
    "### Model definition"
   ]
  },
  {
   "cell_type": "code",
   "execution_count": 3,
   "metadata": {},
   "outputs": [],
   "source": [
    "# Parameters and variables\n",
    "c = 0.7; d = 0.8; eps = 0.08; # FHN parameters\n",
    "\n",
    "# FHN vector field\n",
    "dvdt(X, I) = X[1] - X[1]^3/3.0 - X[2] + I + 0.875\n",
    "dudt(X) = eps * (X[1] + c - d * X[2])\n",
    "F(X, I) = [dvdt(X, I), dudt(X)]\n",
    "\n",
    "D, N = 2, 2 # number of dimensions, units\n",
    "Nθ = 1000\n",
    "G(X, K) = K * ([-1 1; 1 -1] * X[:, 1])\n",
    "dt = 1e-3; T = 200; Nt = round(Int, T/dt)\n",
    "trange = range(0, T, length=Nt)\n",
    "alg = Tsit5();"
   ]
  },
  {
   "cell_type": "code",
   "execution_count": 4,
   "metadata": {},
   "outputs": [
    {
     "name": "stdout",
     "output_type": "stream",
     "text": [
      "  6.473510 seconds (35.21 M allocations: 1.976 GiB, 6.98% gc time, 90.95% compilation time)\n",
      "Ts=36.419000000000004 (sec) , ω=0.1725249267464671 (Hz)\n"
     ]
    }
   ],
   "source": [
    "@time Ts, ω, Xs = find_stable_periodic_solution(F, 0, D, Nθ, [2, 0.5], dt, alg, 1, 0.0, print_progress=false)\n",
    "println(\"Ts=\", Ts, \" (sec) , ω=\", ω, \" (Hz)\")"
   ]
  },
  {
   "cell_type": "code",
   "execution_count": 15,
   "metadata": {},
   "outputs": [
    {
     "name": "stderr",
     "output_type": "stream",
     "text": [
      "\u001b[32m[1/3] Computing Xs(θ, I) and Z(θ, I)...100%|████████████| Time: 0:01:14\u001b[39m\n"
     ]
    },
    {
     "name": "stdout",
     "output_type": "stream",
     "text": [
      "[2/3] Computing ζ(θ, I)...\n",
      "[3/3] Computing ξ(θ, I)...\n"
     ]
    }
   ],
   "source": [
    "# F, Imin, Imax, dI, D, Nθ, nothing, dt, alg, origin_val_idx, origin_thr\n",
    "ωI, ζθI, ξθI, XsI = generalized_phase_sensitivity_func(F, -0.55, 0.55, 0.01, D, Nθ, nothing, dt, alg, 1, 0.0);"
   ]
  },
  {
   "cell_type": "code",
   "execution_count": 6,
   "metadata": {},
   "outputs": [
    {
     "data": {
      "text/plain": [
       "coupled_func! (generic function with 1 method)"
      ]
     },
     "execution_count": 6,
     "metadata": {},
     "output_type": "execute_result"
    }
   ],
   "source": [
    "function coupled_func!(dX, X, p, t)\n",
    "    g, κ = p\n",
    "    Iext = g(X) # input\n",
    "    for i in 1:size(dX)[1]\n",
    "        dX[i, :] = κ[i] * F(X[i, :], Iext[i])\n",
    "    end\n",
    "end"
   ]
  },
  {
   "cell_type": "code",
   "execution_count": 7,
   "metadata": {},
   "outputs": [
    {
     "data": {
      "text/plain": [
       "coupled_original_system_fhn (generic function with 2 methods)"
      ]
     },
     "execution_count": 7,
     "metadata": {},
     "output_type": "execute_result"
    }
   ],
   "source": [
    "function coupled_original_system_fhn(N, D, Nt, dt, XsI, G, coupled_func!, initθ, κ, alg=Tsit5())\n",
    "    X = zeros(Nt, N, D)\n",
    "    initX = hcat([[XsI[j](θ, 0) for j in 1:D] for θ in initθ]...)'\n",
    "    integrator = get_ode_integrator(coupled_func!, initX, dt, (G, κ), alg)\n",
    "    for tt in 1:Nt\n",
    "        x = copy(integrator.u)\n",
    "        X[tt, :, :] = x # memory\n",
    "        step!(integrator, dt, true)\n",
    "    end\n",
    "    return X \n",
    "end"
   ]
  },
  {
   "cell_type": "markdown",
   "metadata": {},
   "source": [
    "If `K>0.10`, IΘ cannot be computed because it's outside the range of external forces that can produce a stable periodic orbit."
   ]
  },
  {
   "cell_type": "code",
   "execution_count": 8,
   "metadata": {},
   "outputs": [
    {
     "data": {
      "text/plain": [
       "g (generic function with 1 method)"
      ]
     },
     "execution_count": 8,
     "metadata": {},
     "output_type": "execute_result"
    }
   ],
   "source": [
    "alg = Tsit5()\n",
    "NΘ = 50\n",
    "K = 0.10 \n",
    "κ = [1.0, 1.5]\n",
    "initθ = [0, π/2];\n",
    "g(X) = G(X, K)"
   ]
  },
  {
   "cell_type": "code",
   "execution_count": 16,
   "metadata": {},
   "outputs": [
    {
     "name": "stderr",
     "output_type": "stream",
     "text": [
      "\u001b[32mComputing P(θ₁, θ₂)...100%|█████████████████████████████| Time: 0:00:24\u001b[39m\n"
     ]
    }
   ],
   "source": [
    "QΘ = compute_QΘ(g, N, D, XsI, κ, ωI, NΘ);"
   ]
  },
  {
   "cell_type": "code",
   "execution_count": 17,
   "metadata": {},
   "outputs": [],
   "source": [
    "Θrange = range(0, 2π, length=100);\n",
    "QΘmap = QΘ[1](Θrange, Θrange);"
   ]
  },
  {
   "cell_type": "code",
   "execution_count": 18,
   "metadata": {},
   "outputs": [],
   "source": [
    "PΘmap = zeros(100, 100);\n",
    "\n",
    "for k in 1:100\n",
    "    for l in 1:100\n",
    "        Θ = [Θrange[k], Θrange[l]]\n",
    "        PΘmap[k, l] = g(hcat([[XsI[j](Θ[i], QΘmap[k, l]) for j in 1:D] for i in 1:N]...)')[1] - QΘmap[k, l]\n",
    "    end\n",
    "end; "
   ]
  },
  {
   "cell_type": "markdown",
   "metadata": {},
   "source": [
    "### Run simulation"
   ]
  },
  {
   "cell_type": "code",
   "execution_count": 22,
   "metadata": {},
   "outputs": [
    {
     "data": {
      "text/plain": [
       "200000×2×2 Array{Float64, 3}:\n",
       "[:, :, 1] =\n",
       " -1.73472e-18   1.49926\n",
       "  0.000942917   1.49893\n",
       "  0.0018866     1.49859\n",
       "  0.00283105    1.49826\n",
       "  0.00377626    1.49793\n",
       "  0.00472224    1.49761\n",
       "  0.00566899    1.49728\n",
       "  0.00661651    1.49695\n",
       "  0.0075648     1.49662\n",
       "  0.00851385    1.49629\n",
       "  0.00946368    1.49597\n",
       "  0.0104143     1.49564\n",
       "  0.0113656     1.49532\n",
       "  ⋮            \n",
       "  1.36281      -0.244915\n",
       "  1.36268      -0.246248\n",
       "  1.36254      -0.247582\n",
       "  1.36241      -0.248918\n",
       "  1.36227      -0.250255\n",
       "  1.36214      -0.251594\n",
       "  1.36201      -0.252935\n",
       "  1.36187      -0.254277\n",
       "  1.36174      -0.25562\n",
       "  1.3616       -0.256966\n",
       "  1.36147      -0.258312\n",
       "  1.36133      -0.25966\n",
       "\n",
       "[:, :, 2] =\n",
       " 0.0823908  1.32226\n",
       " 0.0824416  1.32239\n",
       " 0.0824924  1.32253\n",
       " 0.0825433  1.32267\n",
       " 0.0825943  1.3228\n",
       " 0.0826454  1.32294\n",
       " 0.0826965  1.32308\n",
       " 0.0827477  1.32321\n",
       " 0.0827989  1.32335\n",
       " 0.0828503  1.32349\n",
       " 0.0829017  1.32362\n",
       " 0.0829532  1.32376\n",
       " 0.0830048  1.3239\n",
       " ⋮          \n",
       " 1.36764    1.68378\n",
       " 1.36772    1.68367\n",
       " 1.3678     1.68357\n",
       " 1.36787    1.68346\n",
       " 1.36795    1.68335\n",
       " 1.36803    1.68324\n",
       " 1.36811    1.68313\n",
       " 1.36818    1.68303\n",
       " 1.36826    1.68292\n",
       " 1.36834    1.68281\n",
       " 1.36841    1.6827\n",
       " 1.36849    1.68259"
      ]
     },
     "execution_count": 22,
     "metadata": {},
     "output_type": "execute_result"
    }
   ],
   "source": [
    "Xos = coupled_original_system_fhn(N, D, Nt, dt, XsI, g, coupled_func!, initθ, κ, alg);"
   ]
  },
  {
   "cell_type": "code",
   "execution_count": 24,
   "metadata": {},
   "outputs": [
    {
     "ename": "LoadError",
     "evalue": "UndefVarError: D not defined",
     "output_type": "error",
     "traceback": [
      "UndefVarError: D not defined",
      "",
      "Stacktrace:",
      "  [1] (::GeneralizedPhaseModel.var\"#26#28\"{Vector{Interpolations.ScaledInterpolation{Float64, 2, Interpolations.BSplineInterpolation{Float64, 2, OffsetArrays.OffsetMatrix{Float64, Matrix{Float64}}, Interpolations.BSpline{Interpolations.Cubic{Interpolations.Line{Interpolations.OnGrid}}}, Tuple{Base.OneTo{Int64}, Base.OneTo{Int64}}}, Interpolations.BSpline{Interpolations.Cubic{Interpolations.Line{Interpolations.OnGrid}}}, Tuple{StepRangeLen{Float64, Base.TwicePrecision{Float64}, Base.TwicePrecision{Float64}}, StepRangeLen{Float64, Base.TwicePrecision{Float64}, Base.TwicePrecision{Float64}}}}}})(θ::Float64)",
      "    @ GeneralizedPhaseModel .\\none:0",
      "  [2] iterate",
      "    @ .\\generator.jl:47 [inlined]",
      "  [3] collect(itr::Base.Generator{Vector{Float64}, GeneralizedPhaseModel.var\"#26#28\"{Vector{Interpolations.ScaledInterpolation{Float64, 2, Interpolations.BSplineInterpolation{Float64, 2, OffsetArrays.OffsetMatrix{Float64, Matrix{Float64}}, Interpolations.BSpline{Interpolations.Cubic{Interpolations.Line{Interpolations.OnGrid}}}, Tuple{Base.OneTo{Int64}, Base.OneTo{Int64}}}, Interpolations.BSpline{Interpolations.Cubic{Interpolations.Line{Interpolations.OnGrid}}}, Tuple{StepRangeLen{Float64, Base.TwicePrecision{Float64}, Base.TwicePrecision{Float64}}, StepRangeLen{Float64, Base.TwicePrecision{Float64}, Base.TwicePrecision{Float64}}}}}}})",
      "    @ Base .\\array.jl:678",
      "  [4] conventinal_coupled_updateΘ(Θ::Vector{Float64}, p::Tuple{Int64, Vector{Float64}, typeof(g), Interpolations.ScaledInterpolation{Float64, 1, Interpolations.BSplineInterpolation{Float64, 1, OffsetArrays.OffsetVector{Float64, Vector{Float64}}, Interpolations.BSpline{Interpolations.Cubic{Interpolations.Line{Interpolations.OnGrid}}}, Tuple{Base.OneTo{Int64}}}, Interpolations.BSpline{Interpolations.Cubic{Interpolations.Line{Interpolations.OnGrid}}}, Tuple{StepRangeLen{Float64, Base.TwicePrecision{Float64}, Base.TwicePrecision{Float64}}}}, Interpolations.ScaledInterpolation{Float64, 2, Interpolations.BSplineInterpolation{Float64, 2, OffsetArrays.OffsetMatrix{Float64, Matrix{Float64}}, Interpolations.BSpline{Interpolations.Cubic{Interpolations.Line{Interpolations.OnGrid}}}, Tuple{Base.OneTo{Int64}, Base.OneTo{Int64}}}, Interpolations.BSpline{Interpolations.Cubic{Interpolations.Line{Interpolations.OnGrid}}}, Tuple{StepRangeLen{Float64, Base.TwicePrecision{Float64}, Base.TwicePrecision{Float64}}, StepRangeLen{Float64, Base.TwicePrecision{Float64}, Base.TwicePrecision{Float64}}}}, Vector{Interpolations.ScaledInterpolation{Float64, 2, Interpolations.BSplineInterpolation{Float64, 2, OffsetArrays.OffsetMatrix{Float64, Matrix{Float64}}, Interpolations.BSpline{Interpolations.Cubic{Interpolations.Line{Interpolations.OnGrid}}}, Tuple{Base.OneTo{Int64}, Base.OneTo{Int64}}}, Interpolations.BSpline{Interpolations.Cubic{Interpolations.Line{Interpolations.OnGrid}}}, Tuple{StepRangeLen{Float64, Base.TwicePrecision{Float64}, Base.TwicePrecision{Float64}}, StepRangeLen{Float64, Base.TwicePrecision{Float64}, Base.TwicePrecision{Float64}}}}}}, t::Float64)",
      "    @ GeneralizedPhaseModel D:\\github\\GeneralizedPhaseModel.jl\\src\\coupled_phase_equation.jl:106",
      "  [5] ODEFunction",
      "    @ C:\\Users\\yamtak\\.julia\\packages\\SciMLBase\\x3z0g\\src\\scimlfunctions.jl:334 [inlined]",
      "  [6] initialize!(integrator::OrdinaryDiffEq.ODEIntegrator{Tsit5{typeof(OrdinaryDiffEq.trivial_limiter!), typeof(OrdinaryDiffEq.trivial_limiter!), Static.False}, false, Vector{Float64}, Nothing, Float64, Tuple{Int64, Vector{Float64}, typeof(g), Interpolations.ScaledInterpolation{Float64, 1, Interpolations.BSplineInterpolation{Float64, 1, OffsetArrays.OffsetVector{Float64, Vector{Float64}}, Interpolations.BSpline{Interpolations.Cubic{Interpolations.Line{Interpolations.OnGrid}}}, Tuple{Base.OneTo{Int64}}}, Interpolations.BSpline{Interpolations.Cubic{Interpolations.Line{Interpolations.OnGrid}}}, Tuple{StepRangeLen{Float64, Base.TwicePrecision{Float64}, Base.TwicePrecision{Float64}}}}, Interpolations.ScaledInterpolation{Float64, 2, Interpolations.BSplineInterpolation{Float64, 2, OffsetArrays.OffsetMatrix{Float64, Matrix{Float64}}, Interpolations.BSpline{Interpolations.Cubic{Interpolations.Line{Interpolations.OnGrid}}}, Tuple{Base.OneTo{Int64}, Base.OneTo{Int64}}}, Interpolations.BSpline{Interpolations.Cubic{Interpolations.Line{Interpolations.OnGrid}}}, Tuple{StepRangeLen{Float64, Base.TwicePrecision{Float64}, Base.TwicePrecision{Float64}}, StepRangeLen{Float64, Base.TwicePrecision{Float64}, Base.TwicePrecision{Float64}}}}, Vector{Interpolations.ScaledInterpolation{Float64, 2, Interpolations.BSplineInterpolation{Float64, 2, OffsetArrays.OffsetMatrix{Float64, Matrix{Float64}}, Interpolations.BSpline{Interpolations.Cubic{Interpolations.Line{Interpolations.OnGrid}}}, Tuple{Base.OneTo{Int64}, Base.OneTo{Int64}}}, Interpolations.BSpline{Interpolations.Cubic{Interpolations.Line{Interpolations.OnGrid}}}, Tuple{StepRangeLen{Float64, Base.TwicePrecision{Float64}, Base.TwicePrecision{Float64}}, StepRangeLen{Float64, Base.TwicePrecision{Float64}, Base.TwicePrecision{Float64}}}}}}, Float64, Float64, Float64, Float64, Vector{Vector{Float64}}, ODESolution{Float64, 2, Vector{Vector{Float64}}, Nothing, Nothing, Vector{Float64}, Vector{Vector{Vector{Float64}}}, ODEProblem{Vector{Float64}, Tuple{Float64, Float64}, false, Tuple{Int64, Vector{Float64}, typeof(g), Interpolations.ScaledInterpolation{Float64, 1, Interpolations.BSplineInterpolation{Float64, 1, OffsetArrays.OffsetVector{Float64, Vector{Float64}}, Interpolations.BSpline{Interpolations.Cubic{Interpolations.Line{Interpolations.OnGrid}}}, Tuple{Base.OneTo{Int64}}}, Interpolations.BSpline{Interpolations.Cubic{Interpolations.Line{Interpolations.OnGrid}}}, Tuple{StepRangeLen{Float64, Base.TwicePrecision{Float64}, Base.TwicePrecision{Float64}}}}, Interpolations.ScaledInterpolation{Float64, 2, Interpolations.BSplineInterpolation{Float64, 2, OffsetArrays.OffsetMatrix{Float64, Matrix{Float64}}, Interpolations.BSpline{Interpolations.Cubic{Interpolations.Line{Interpolations.OnGrid}}}, Tuple{Base.OneTo{Int64}, Base.OneTo{Int64}}}, Interpolations.BSpline{Interpolations.Cubic{Interpolations.Line{Interpolations.OnGrid}}}, Tuple{StepRangeLen{Float64, Base.TwicePrecision{Float64}, Base.TwicePrecision{Float64}}, StepRangeLen{Float64, Base.TwicePrecision{Float64}, Base.TwicePrecision{Float64}}}}, Vector{Interpolations.ScaledInterpolation{Float64, 2, Interpolations.BSplineInterpolation{Float64, 2, OffsetArrays.OffsetMatrix{Float64, Matrix{Float64}}, Interpolations.BSpline{Interpolations.Cubic{Interpolations.Line{Interpolations.OnGrid}}}, Tuple{Base.OneTo{Int64}, Base.OneTo{Int64}}}, Interpolations.BSpline{Interpolations.Cubic{Interpolations.Line{Interpolations.OnGrid}}}, Tuple{StepRangeLen{Float64, Base.TwicePrecision{Float64}, Base.TwicePrecision{Float64}}, StepRangeLen{Float64, Base.TwicePrecision{Float64}, Base.TwicePrecision{Float64}}}}}}, ODEFunction{false, typeof(conventinal_coupled_updateΘ), LinearAlgebra.UniformScaling{Bool}, Nothing, Nothing, Nothing, Nothing, Nothing, Nothing, Nothing, Nothing, Nothing, Nothing, Nothing, Nothing, typeof(SciMLBase.DEFAULT_OBSERVED), Nothing}, Base.Iterators.Pairs{Union{}, Union{}, Tuple{}, NamedTuple{(), Tuple{}}}, SciMLBase.StandardODEProblem}, Tsit5{typeof(OrdinaryDiffEq.trivial_limiter!), typeof(OrdinaryDiffEq.trivial_limiter!), Static.False}, OrdinaryDiffEq.InterpolationData{ODEFunction{false, typeof(conventinal_coupled_updateΘ), LinearAlgebra.UniformScaling{Bool}, Nothing, Nothing, Nothing, Nothing, Nothing, Nothing, Nothing, Nothing, Nothing, Nothing, Nothing, Nothing, typeof(SciMLBase.DEFAULT_OBSERVED), Nothing}, Vector{Vector{Float64}}, Vector{Float64}, Vector{Vector{Vector{Float64}}}, OrdinaryDiffEq.Tsit5ConstantCache{Float64, Float64}}, DiffEqBase.DEStats}, ODEFunction{false, typeof(conventinal_coupled_updateΘ), LinearAlgebra.UniformScaling{Bool}, Nothing, Nothing, Nothing, Nothing, Nothing, Nothing, Nothing, Nothing, Nothing, Nothing, Nothing, Nothing, typeof(SciMLBase.DEFAULT_OBSERVED), Nothing}, OrdinaryDiffEq.Tsit5ConstantCache{Float64, Float64}, OrdinaryDiffEq.DEOptions{Float64, Float64, Float64, Float64, PIController{Rational{Int64}}, typeof(DiffEqBase.ODE_DEFAULT_NORM), typeof(LinearAlgebra.opnorm), Nothing, CallbackSet{Tuple{}, Tuple{}}, typeof(DiffEqBase.ODE_DEFAULT_ISOUTOFDOMAIN), typeof(DiffEqBase.ODE_DEFAULT_PROG_MESSAGE), typeof(DiffEqBase.ODE_DEFAULT_UNSTABLE_CHECK), DataStructures.BinaryHeap{Float64, DataStructures.FasterForward}, DataStructures.BinaryHeap{Float64, DataStructures.FasterForward}, Nothing, Nothing, Float64, Tuple{}, Tuple{}, Tuple{}}, Vector{Float64}, Float64, Nothing, OrdinaryDiffEq.DefaultInit}, cache::OrdinaryDiffEq.Tsit5ConstantCache{Float64, Float64})",
      "    @ OrdinaryDiffEq C:\\Users\\yamtak\\.julia\\packages\\OrdinaryDiffEq\\JsAS0\\src\\perform_step\\low_order_rk_perform_step.jl:569",
      "  [7] __init(prob::ODEProblem{Vector{Float64}, Tuple{Float64, Float64}, false, Tuple{Int64, Vector{Float64}, typeof(g), Interpolations.ScaledInterpolation{Float64, 1, Interpolations.BSplineInterpolation{Float64, 1, OffsetArrays.OffsetVector{Float64, Vector{Float64}}, Interpolations.BSpline{Interpolations.Cubic{Interpolations.Line{Interpolations.OnGrid}}}, Tuple{Base.OneTo{Int64}}}, Interpolations.BSpline{Interpolations.Cubic{Interpolations.Line{Interpolations.OnGrid}}}, Tuple{StepRangeLen{Float64, Base.TwicePrecision{Float64}, Base.TwicePrecision{Float64}}}}, Interpolations.ScaledInterpolation{Float64, 2, Interpolations.BSplineInterpolation{Float64, 2, OffsetArrays.OffsetMatrix{Float64, Matrix{Float64}}, Interpolations.BSpline{Interpolations.Cubic{Interpolations.Line{Interpolations.OnGrid}}}, Tuple{Base.OneTo{Int64}, Base.OneTo{Int64}}}, Interpolations.BSpline{Interpolations.Cubic{Interpolations.Line{Interpolations.OnGrid}}}, Tuple{StepRangeLen{Float64, Base.TwicePrecision{Float64}, Base.TwicePrecision{Float64}}, StepRangeLen{Float64, Base.TwicePrecision{Float64}, Base.TwicePrecision{Float64}}}}, Vector{Interpolations.ScaledInterpolation{Float64, 2, Interpolations.BSplineInterpolation{Float64, 2, OffsetArrays.OffsetMatrix{Float64, Matrix{Float64}}, Interpolations.BSpline{Interpolations.Cubic{Interpolations.Line{Interpolations.OnGrid}}}, Tuple{Base.OneTo{Int64}, Base.OneTo{Int64}}}, Interpolations.BSpline{Interpolations.Cubic{Interpolations.Line{Interpolations.OnGrid}}}, Tuple{StepRangeLen{Float64, Base.TwicePrecision{Float64}, Base.TwicePrecision{Float64}}, StepRangeLen{Float64, Base.TwicePrecision{Float64}, Base.TwicePrecision{Float64}}}}}}, ODEFunction{false, typeof(conventinal_coupled_updateΘ), LinearAlgebra.UniformScaling{Bool}, Nothing, Nothing, Nothing, Nothing, Nothing, Nothing, Nothing, Nothing, Nothing, Nothing, Nothing, Nothing, typeof(SciMLBase.DEFAULT_OBSERVED), Nothing}, Base.Iterators.Pairs{Union{}, Union{}, Tuple{}, NamedTuple{(), Tuple{}}}, SciMLBase.StandardODEProblem}, alg::Tsit5{typeof(OrdinaryDiffEq.trivial_limiter!), typeof(OrdinaryDiffEq.trivial_limiter!), Static.False}, timeseries_init::Tuple{}, ts_init::Tuple{}, ks_init::Tuple{}, recompile::Type{Val{true}}; saveat::Tuple{}, tstops::Tuple{}, d_discontinuities::Tuple{}, save_idxs::Nothing, save_everystep::Bool, save_on::Bool, save_start::Bool, save_end::Nothing, callback::Nothing, dense::Bool, calck::Bool, dt::Float64, dtmin::Nothing, dtmax::Float64, force_dtmin::Bool, adaptive::Bool, gamma::Rational{Int64}, abstol::Nothing, reltol::Nothing, qmin::Rational{Int64}, qmax::Int64, qsteady_min::Int64, qsteady_max::Int64, beta1::Nothing, beta2::Nothing, qoldinit::Rational{Int64}, controller::Nothing, fullnormalize::Bool, failfactor::Int64, maxiters::Float64, internalnorm::typeof(DiffEqBase.ODE_DEFAULT_NORM), internalopnorm::typeof(LinearAlgebra.opnorm), isoutofdomain::typeof(DiffEqBase.ODE_DEFAULT_ISOUTOFDOMAIN), unstable_check::typeof(DiffEqBase.ODE_DEFAULT_UNSTABLE_CHECK), verbose::Bool, timeseries_errors::Bool, dense_errors::Bool, advance_to_tstop::Bool, stop_at_next_tstop::Bool, initialize_save::Bool, progress::Bool, progress_steps::Int64, progress_name::String, progress_message::typeof(DiffEqBase.ODE_DEFAULT_PROG_MESSAGE), userdata::Nothing, allow_extrapolation::Bool, initialize_integrator::Bool, alias_u0::Bool, alias_du0::Bool, initializealg::OrdinaryDiffEq.DefaultInit, kwargs::Base.Iterators.Pairs{Union{}, Union{}, Tuple{}, NamedTuple{(), Tuple{}}})",
      "    @ OrdinaryDiffEq C:\\Users\\yamtak\\.julia\\packages\\OrdinaryDiffEq\\JsAS0\\src\\solve.jl:456",
      "  [8] #init_call#40",
      "    @ C:\\Users\\yamtak\\.julia\\packages\\DiffEqBase\\b1nST\\src\\solve.jl:28 [inlined]",
      "  [9] #init#41",
      "    @ C:\\Users\\yamtak\\.julia\\packages\\DiffEqBase\\b1nST\\src\\solve.jl:40 [inlined]",
      " [10] get_ode_integrator(func::Function, u0::Vector{Float64}, dt::Float64, param::Tuple{Int64, Vector{Float64}, typeof(g), Interpolations.ScaledInterpolation{Float64, 1, Interpolations.BSplineInterpolation{Float64, 1, OffsetArrays.OffsetVector{Float64, Vector{Float64}}, Interpolations.BSpline{Interpolations.Cubic{Interpolations.Line{Interpolations.OnGrid}}}, Tuple{Base.OneTo{Int64}}}, Interpolations.BSpline{Interpolations.Cubic{Interpolations.Line{Interpolations.OnGrid}}}, Tuple{StepRangeLen{Float64, Base.TwicePrecision{Float64}, Base.TwicePrecision{Float64}}}}, Interpolations.ScaledInterpolation{Float64, 2, Interpolations.BSplineInterpolation{Float64, 2, OffsetArrays.OffsetMatrix{Float64, Matrix{Float64}}, Interpolations.BSpline{Interpolations.Cubic{Interpolations.Line{Interpolations.OnGrid}}}, Tuple{Base.OneTo{Int64}, Base.OneTo{Int64}}}, Interpolations.BSpline{Interpolations.Cubic{Interpolations.Line{Interpolations.OnGrid}}}, Tuple{StepRangeLen{Float64, Base.TwicePrecision{Float64}, Base.TwicePrecision{Float64}}, StepRangeLen{Float64, Base.TwicePrecision{Float64}, Base.TwicePrecision{Float64}}}}, Vector{Interpolations.ScaledInterpolation{Float64, 2, Interpolations.BSplineInterpolation{Float64, 2, OffsetArrays.OffsetMatrix{Float64, Matrix{Float64}}, Interpolations.BSpline{Interpolations.Cubic{Interpolations.Line{Interpolations.OnGrid}}}, Tuple{Base.OneTo{Int64}, Base.OneTo{Int64}}}, Interpolations.BSpline{Interpolations.Cubic{Interpolations.Line{Interpolations.OnGrid}}}, Tuple{StepRangeLen{Float64, Base.TwicePrecision{Float64}, Base.TwicePrecision{Float64}}, StepRangeLen{Float64, Base.TwicePrecision{Float64}, Base.TwicePrecision{Float64}}}}}}, alg::Tsit5{typeof(OrdinaryDiffEq.trivial_limiter!), typeof(OrdinaryDiffEq.trivial_limiter!), Static.False}, maxiters::Float64)",
      "    @ GeneralizedPhaseModel D:\\github\\GeneralizedPhaseModel.jl\\src\\differential_equations_extensions.jl:23",
      " [11] get_ode_integrator",
      "    @ D:\\github\\GeneralizedPhaseModel.jl\\src\\differential_equations_extensions.jl:2 [inlined]",
      " [12] coupled_conventinal_phase_model(N::Int64, D::Int64, Nt::Int64, dt::Float64, XsI::Vector{Interpolations.ScaledInterpolation{Float64, 2, Interpolations.BSplineInterpolation{Float64, 2, OffsetArrays.OffsetMatrix{Float64, Matrix{Float64}}, Interpolations.BSpline{Interpolations.Cubic{Interpolations.Line{Interpolations.OnGrid}}}, Tuple{Base.OneTo{Int64}, Base.OneTo{Int64}}}, Interpolations.BSpline{Interpolations.Cubic{Interpolations.Line{Interpolations.OnGrid}}}, Tuple{StepRangeLen{Float64, Base.TwicePrecision{Float64}, Base.TwicePrecision{Float64}}, StepRangeLen{Float64, Base.TwicePrecision{Float64}, Base.TwicePrecision{Float64}}}}}, G::typeof(g), ωI::Interpolations.ScaledInterpolation{Float64, 1, Interpolations.BSplineInterpolation{Float64, 1, OffsetArrays.OffsetVector{Float64, Vector{Float64}}, Interpolations.BSpline{Interpolations.Cubic{Interpolations.Line{Interpolations.OnGrid}}}, Tuple{Base.OneTo{Int64}}}, Interpolations.BSpline{Interpolations.Cubic{Interpolations.Line{Interpolations.OnGrid}}}, Tuple{StepRangeLen{Float64, Base.TwicePrecision{Float64}, Base.TwicePrecision{Float64}}}}, ζθI::Interpolations.ScaledInterpolation{Float64, 2, Interpolations.BSplineInterpolation{Float64, 2, OffsetArrays.OffsetMatrix{Float64, Matrix{Float64}}, Interpolations.BSpline{Interpolations.Cubic{Interpolations.Line{Interpolations.OnGrid}}}, Tuple{Base.OneTo{Int64}, Base.OneTo{Int64}}}, Interpolations.BSpline{Interpolations.Cubic{Interpolations.Line{Interpolations.OnGrid}}}, Tuple{StepRangeLen{Float64, Base.TwicePrecision{Float64}, Base.TwicePrecision{Float64}}, StepRangeLen{Float64, Base.TwicePrecision{Float64}, Base.TwicePrecision{Float64}}}}, initθ::Vector{Float64}, κ::Vector{Float64}, alg::Tsit5{typeof(OrdinaryDiffEq.trivial_limiter!), typeof(OrdinaryDiffEq.trivial_limiter!), Static.False})",
      "    @ GeneralizedPhaseModel D:\\github\\GeneralizedPhaseModel.jl\\src\\coupled_phase_equation.jl:159",
      " [13] top-level scope",
      "    @ In[24]:1",
      " [14] eval",
      "    @ .\\boot.jl:360 [inlined]",
      " [15] include_string(mapexpr::typeof(REPL.softscope), mod::Module, code::String, filename::String)",
      "    @ Base .\\loading.jl:1116"
     ]
    }
   ],
   "source": [
    "Xcpm, Θcpm = coupled_conventinal_phase_model(N, D, Nt, dt, XsI, g, ωI, ζθI, initθ, κ, alg);"
   ]
  },
  {
   "cell_type": "code",
   "execution_count": 23,
   "metadata": {},
   "outputs": [],
   "source": [
    "Xgpm, Θgpm = coupled_generalized_phase_model_PQ(N, D, Nt, dt, XsI, QΘ, ωI, ζθI, ξθI, initθ, κ, g, alg);"
   ]
  },
  {
   "cell_type": "code",
   "execution_count": 20,
   "metadata": {},
   "outputs": [],
   "source": [
    "Irange = -0.55:0.01:0.55; "
   ]
  },
  {
   "cell_type": "code",
   "execution_count": 21,
   "metadata": {},
   "outputs": [
    {
     "ename": "LoadError",
     "evalue": "UndefVarError: Xcpm not defined",
     "output_type": "error",
     "traceback": [
      "UndefVarError: Xcpm not defined",
      "",
      "Stacktrace:",
      " [1] top-level scope",
      "   @ In[21]:29",
      " [2] eval",
      "   @ .\\boot.jl:360 [inlined]",
      " [3] include_string(mapexpr::typeof(REPL.softscope), mod::Module, code::String, filename::String)",
      "   @ Base .\\loading.jl:1116"
     ]
    }
   ],
   "source": [
    "figure(figsize=(12, 6), dpi=300)\n",
    "ax3 = subplot2grid((2, 2), (0, 0), rowspan=1, colspan=1)\n",
    "contour(Θrange, Θrange, QΘmap, 10, colors=\"white\")\n",
    "imshow(reverse(QΘmap, dims=1), extent=(0, 2pi, 0, 2pi))\n",
    "xlabel(L\"$\\theta_1$\"); ylabel(L\"$\\theta_2$\");\n",
    "xticks([0, pi, 2pi], [\"0\", L\"$\\pi$\", L\"$2\\pi$\"]);\n",
    "yticks([0, pi, 2pi], [\"0\", L\"$\\pi$\", L\"$2\\pi$\"]);\n",
    "divider3 = axes_grid1.make_axes_locatable(ax3)\n",
    "cax3 = divider3.append_axes(\"right\", size=\"5%\", pad=0.1)\n",
    "cbar3 = colorbar(cax=cax3)#, ticks=[-0.5, 0, 0.5])\n",
    "cbar3.set_label(L\"$Q_1\\left(\\theta_1, \\theta_2\\right)$\")\n",
    "ax3.text(-0.2, 1.2, \"(a)\", fontsize=16, transform=ax3.transAxes, fontweight=\"bold\", va=\"top\")\n",
    "\n",
    "ax4 = subplot2grid((2, 2), (1, 0), rowspan=1, colspan=1)\n",
    "contour(Θrange, Θrange, PΘmap, 10, colors=\"white\")\n",
    "imshow(reverse(PΘmap, dims=1), extent=(0, 2pi, 0, 2pi))\n",
    "xlabel(L\"$\\theta_1$\"); ylabel(L\"$\\theta_2$\");\n",
    "xticks([0, pi, 2pi], [\"0\", L\"$\\pi$\", L\"$2\\pi$\"]);\n",
    "yticks([0, pi, 2pi], [\"0\", L\"$\\pi$\", L\"$2\\pi$\"]);\n",
    "divider4 = axes_grid1.make_axes_locatable(ax4)\n",
    "cax4 = divider4.append_axes(\"right\", size=\"5%\", pad=0.1)\n",
    "cbar4 = colorbar(cax=cax4)#, ticks=[-0.5, 0, 0.5])\n",
    "cbar4.set_label(L\"$P_1\\left(\\theta_1, \\theta_2\\right)$\")\n",
    "ax4.text(-0.2, 1.2, \"(b)\", fontsize=16, transform=ax4.transAxes, fontweight=\"bold\", va=\"top\")\n",
    "\n",
    "ax1 = subplot2grid((2, 2), (0, 1), rowspan=1, colspan=1)\n",
    "# title(\"Conventinal phase model\")\n",
    "plot(trange, Xos[:, 1, 1], label=\"original system\", color=\"tab:orange\")\n",
    "plot(trange, Xcpm[:, 1, 1], \"--\", label=\"phase eq. [conventional]\", color=\"tab:red\")\n",
    "plot(trange, Xos[:, 2, 1], label=\" \", color=\"tab:green\")\n",
    "plot(trange, Xcpm[:, 2, 1], \"--\", label=\" \", color=\"tab:blue\")\n",
    "xlim(trange[1], trange[end]); ylim(ylim()[1]-0.3, ylim()[2]+2); ylabel(L\"$v_1(t), v_2(t)$\");\n",
    "plt.gca().axes.xaxis.set_ticklabels([])\n",
    "ax1.text(-0.15, 1.2, \"(c)\", fontsize=16, transform=ax1.transAxes, fontweight=\"bold\", va=\"top\")\n",
    "legend(loc=\"upper right\", ncol=2, columnspacing=0, labelspacing=0.1, frameon=false, markerfirst=false)\n",
    "\n",
    "ax2 = subplot2grid((2, 2), (1, 1), rowspan=1, colspan=1)\n",
    "plot(trange, Xos[:, 1, 1], label=\"original system\", color=\"tab:orange\")\n",
    "plot(trange, Xgpm[:, 1, 1], \"--\", label=\"phase eq. [proposed]\", color=\"tab:red\")\n",
    "plot(trange, Xos[:, 2, 1], label=\" \", color=\"tab:green\")\n",
    "plot(trange, Xgpm[:, 2, 1], \"--\", label=\" \", color=\"tab:blue\")\n",
    "xlim(trange[1], trange[end]); ylim(ylim()[1]-0.3, ylim()[2]+2);  xlabel(L\"$t$\"); ylabel(L\"$v_1(t), v_2(t)$\"); \n",
    "ax2.text(-0.15, 1.2, \"(d)\", fontsize=16, transform=ax2.transAxes, fontweight=\"bold\", va=\"top\")\n",
    "legend(loc=\"upper right\", ncol=2, columnspacing=0, labelspacing=0.1, frameon=false, markerfirst=false)\n",
    "subplots_adjust(hspace=0.4, wspace=0.1)\n",
    "#show()\n",
    "#tight_layout()\n",
    "savefig(\"fig3.svg\")"
   ]
  }
 ],
 "metadata": {
  "kernelspec": {
   "display_name": "Julia 1.6.2",
   "language": "julia",
   "name": "julia-1.6"
  },
  "language_info": {
   "file_extension": ".jl",
   "mimetype": "application/julia",
   "name": "julia",
   "version": "1.6.2"
  }
 },
 "nbformat": 4,
 "nbformat_minor": 4
}
